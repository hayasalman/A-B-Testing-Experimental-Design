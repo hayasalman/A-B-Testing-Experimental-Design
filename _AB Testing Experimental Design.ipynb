{
 "cells": [
  {
   "cell_type": "code",
   "execution_count": 1,
   "id": "39f1bcbb",
   "metadata": {},
   "outputs": [],
   "source": [
    "import pandas as pd\n",
    "import numpy as np\n",
    "import matplotlib.pyplot as plt\n",
    "\n",
    "%matplotlib inline\n",
    "import seaborn as sns\n",
    "\n",
    "import random\n",
    "plt.style.use('ggplot')"
   ]
  },
  {
   "cell_type": "markdown",
   "id": "62192613",
   "metadata": {},
   "source": [
    "## #Signup Banner \n",
    "\n",
    "The company adjusted the sign up banner by changing the color to brighter color , text format and so on in order to improve the sign up conversion rate. "
   ]
  },
  {
   "cell_type": "markdown",
   "id": "ec2b1f04",
   "metadata": {},
   "source": [
    "### **Metric : Conversion Rate**"
   ]
  },
  {
   "cell_type": "code",
   "execution_count": 3,
   "id": "c935889e",
   "metadata": {},
   "outputs": [
    {
     "data": {
      "text/html": [
       "<div>\n",
       "<style scoped>\n",
       "    .dataframe tbody tr th:only-of-type {\n",
       "        vertical-align: middle;\n",
       "    }\n",
       "\n",
       "    .dataframe tbody tr th {\n",
       "        vertical-align: top;\n",
       "    }\n",
       "\n",
       "    .dataframe thead th {\n",
       "        text-align: right;\n",
       "    }\n",
       "</style>\n",
       "<table border=\"1\" class=\"dataframe\">\n",
       "  <thead>\n",
       "    <tr style=\"text-align: right;\">\n",
       "      <th></th>\n",
       "      <th>id</th>\n",
       "      <th>group</th>\n",
       "      <th>page</th>\n",
       "      <th>converted</th>\n",
       "    </tr>\n",
       "  </thead>\n",
       "  <tbody>\n",
       "    <tr>\n",
       "      <th>0</th>\n",
       "      <td>19450</td>\n",
       "      <td>treatment</td>\n",
       "      <td>new page</td>\n",
       "      <td>no</td>\n",
       "    </tr>\n",
       "    <tr>\n",
       "      <th>1</th>\n",
       "      <td>13382</td>\n",
       "      <td>control</td>\n",
       "      <td>old page</td>\n",
       "      <td>no</td>\n",
       "    </tr>\n",
       "  </tbody>\n",
       "</table>\n",
       "</div>"
      ],
      "text/plain": [
       "      id      group      page converted\n",
       "0  19450  treatment  new page        no\n",
       "1  13382    control  old page        no"
      ]
     },
     "execution_count": 3,
     "metadata": {},
     "output_type": "execute_result"
    }
   ],
   "source": [
    "df_sign = pd.read_csv('signup_conversions.csv')\n",
    "df_sign.head(2)"
   ]
  },
  {
   "cell_type": "code",
   "execution_count": 49,
   "id": "90f70c6f",
   "metadata": {},
   "outputs": [
    {
     "data": {
      "text/plain": [
       "control      2425\n",
       "treatment    2095\n",
       "Name: group, dtype: int64"
      ]
     },
     "execution_count": 49,
     "metadata": {},
     "output_type": "execute_result"
    }
   ],
   "source": [
    "df_sign['group'].value_counts()"
   ]
  },
  {
   "cell_type": "code",
   "execution_count": 50,
   "id": "de83ef33",
   "metadata": {},
   "outputs": [
    {
     "data": {
      "text/plain": [
       "control      0.536504\n",
       "treatment    0.463496\n",
       "Name: group, dtype: float64"
      ]
     },
     "execution_count": 50,
     "metadata": {},
     "output_type": "execute_result"
    }
   ],
   "source": [
    "df_sign['group'].value_counts(normalize=True)"
   ]
  },
  {
   "cell_type": "code",
   "execution_count": 42,
   "id": "aee882d8",
   "metadata": {},
   "outputs": [
    {
     "data": {
      "text/plain": [
       "group      converted\n",
       "control    no           1810\n",
       "           yes           615\n",
       "treatment  no           1512\n",
       "           yes           583\n",
       "Name: converted, dtype: int64"
      ]
     },
     "execution_count": 42,
     "metadata": {},
     "output_type": "execute_result"
    }
   ],
   "source": [
    "signup_group = df_sign.groupby('group')\n",
    "\n",
    "signup_group['converted'].value_counts()"
   ]
  },
  {
   "cell_type": "code",
   "execution_count": 44,
   "id": "f2f3a29c",
   "metadata": {},
   "outputs": [
    {
     "data": {
      "text/plain": [
       "group      converted\n",
       "control    no           0.746392\n",
       "           yes          0.253608\n",
       "treatment  no           0.721718\n",
       "           yes          0.278282\n",
       "Name: converted, dtype: float64"
      ]
     },
     "execution_count": 44,
     "metadata": {},
     "output_type": "execute_result"
    }
   ],
   "source": [
    "signup_group['converted'].value_counts(normalize=True)"
   ]
  },
  {
   "cell_type": "code",
   "execution_count": 48,
   "id": "7bf13f6c",
   "metadata": {},
   "outputs": [
    {
     "data": {
      "text/plain": [
       "<AxesSubplot:xlabel='group', ylabel='count'>"
      ]
     },
     "execution_count": 48,
     "metadata": {},
     "output_type": "execute_result"
    },
    {
     "data": {
      "image/png": "[encoded data removed]",
      "text/plain": [
       "<Figure size 576x432 with 1 Axes>"
      ]
     },
     "metadata": {},
     "output_type": "display_data"
    }
   ],
   "source": [
    "fig= plt.figure(figsize = (8, 6))\n",
    "\n",
    "sns.countplot(x = 'group', data = df_sign, order = df_sign['group'].value_counts().index, hue='converted')"
   ]
  },
  {
   "cell_type": "markdown",
   "id": "e0df1381",
   "metadata": {},
   "source": [
    "**Insights**\n",
    "\n",
    "- The users in the control group are **2425** and in the treatment is **2095**.\n",
    "- There is more traffic in the control group than the treatment group, about **7%** difference.\n",
    "- Generally , the views are more than the clicks in both groups.\n"
   ]
  },
  {
   "cell_type": "markdown",
   "id": "90d82f8d",
   "metadata": {},
   "source": [
    "**Conversion rate of the old page**"
   ]
  },
  {
   "cell_type": "code",
   "execution_count": 4,
   "id": "bc24e121",
   "metadata": {},
   "outputs": [
    {
     "name": "stdout",
     "output_type": "stream",
     "text": [
      "The conversion rate of signups the old page is: 0.25\n"
     ]
    }
   ],
   "source": [
    "old_conv = df_sign.query('page == \"old page\" & converted == \"yes\"').id.count()\n",
    "old_count = df_sign.query('page == \"old page\"').id.count()\n",
    "\n",
    "old_conv_rate = old_conv / old_count\n",
    "\n",
    "print('The conversion rate of signups the old page is: {}'.format(round(old_conv_rate , 2)))"
   ]
  },
  {
   "cell_type": "markdown",
   "id": "5b674b03",
   "metadata": {},
   "source": [
    "**Conversion rate of the new page**"
   ]
  },
  {
   "cell_type": "code",
   "execution_count": 5,
   "id": "6f8960ba",
   "metadata": {},
   "outputs": [
    {
     "name": "stdout",
     "output_type": "stream",
     "text": [
      "The conversion rate of signups the new page is: 0.28\n"
     ]
    }
   ],
   "source": [
    "new_conv = df_sign.query('page == \"new page\" & converted == \"yes\"').id.count()\n",
    "new_count = df_sign.query('page == \"new page\"').id.count()\n",
    "\n",
    "new_conv_rate = new_conv/ new_count\n",
    "\n",
    "print('The conversion rate of signups the new page is: {}'.format(round(new_conv_rate , 2)))"
   ]
  },
  {
   "cell_type": "markdown",
   "id": "40ab4fa1",
   "metadata": {},
   "source": [
    "**The difference between the conversion rates of the signup of the old and new pages**"
   ]
  },
  {
   "cell_type": "code",
   "execution_count": 6,
   "id": "194130cc",
   "metadata": {},
   "outputs": [
    {
     "name": "stdout",
     "output_type": "stream",
     "text": [
      "The difference between the conversion rates of the sign up of the old and the new pages is: 0.02\n"
     ]
    }
   ],
   "source": [
    "diff_sign = new_conv_rate - old_conv_rate\n",
    "print('The difference between the conversion rates of the sign up of the old and the new pages is: {}'.format(round(diff_sign , 2)))"
   ]
  },
  {
   "cell_type": "markdown",
   "id": "6a809b2f",
   "metadata": {},
   "source": [
    "**Insights**\n",
    "\n",
    "- The sign up conversion rate of the control group is **25%**\n",
    "- The sign up conversion rate of the treatment group is **28%**.\n",
    "- The difference between the conversion rates of the signup for both groups is about **2%**."
   ]
  },
  {
   "cell_type": "markdown",
   "id": "57779d62",
   "metadata": {},
   "source": [
    "At the level of significance (0.05), Do we have significant evidence to say there's a difference in the conversion rates of the old and the new page?\n",
    "\n",
    "**Null Hypothesis** : Conversion Rate *(new)* - Conversion Rate *(old)* =< 0\n",
    "\n",
    "**Alternative Hypothesis** : Conversion Rate *(new)* - Conversion Rate *(old)* > 0"
   ]
  },
  {
   "cell_type": "code",
   "execution_count": 7,
   "id": "dd64948a",
   "metadata": {},
   "outputs": [
    {
     "data": {
      "text/plain": [
       "10000"
      ]
     },
     "execution_count": 7,
     "metadata": {},
     "output_type": "execute_result"
    }
   ],
   "source": [
    "diffs_sign = []\n",
    "\n",
    "for diff in range(10000):\n",
    "    b_samp = df_sign.sample(df_sign.shape[0], replace=True)\n",
    "    old_conv = b_samp.query('page == \"old page\" & converted == \"yes\"').id.count()\n",
    "    old_count = b_samp.query('page == \"old page\"').id.count()\n",
    "    new_conv = b_samp.query('page == \"new page\" & converted == \"yes\"').id.count()\n",
    "    new_count = b_samp.query('page == \"new page\"').id.count()\n",
    "\n",
    "    new_conv_rate = new_conv / new_count\n",
    "    old_conv_rate = old_conv / old_count\n",
    "    \n",
    "    diffs_sign.append(new_conv_rate - old_conv_rate)\n",
    "len(diffs_sign)"
   ]
  },
  {
   "cell_type": "code",
   "execution_count": 8,
   "id": "192814b1",
   "metadata": {},
   "outputs": [
    {
     "data": {
      "image/png": "[encoded data removed]",
      "text/plain": [
       "<Figure size 432x432 with 1 Axes>"
      ]
     },
     "metadata": {},
     "output_type": "display_data"
    }
   ],
   "source": [
    "plt.figure(figsize=(6,6))\n",
    "plt.hist(diffs_sign, alpha = 0.5);"
   ]
  },
  {
   "cell_type": "code",
   "execution_count": 9,
   "id": "de5fad1c",
   "metadata": {},
   "outputs": [
    {
     "data": {
      "text/plain": [
       "<matplotlib.lines.Line2D at 0x123e6f43430>"
      ]
     },
     "execution_count": 9,
     "metadata": {},
     "output_type": "execute_result"
    },
    {
     "data": {
      "image/png": "[encoded data removed]",
      "text/plain": [
       "<Figure size 432x432 with 1 Axes>"
      ]
     },
     "metadata": {},
     "output_type": "display_data"
    }
   ],
   "source": [
    "diff_sign_arr = np.array(diffs_sign)\n",
    "null_sign_vals = np.random.normal(0, diff_sign_arr.std(), diff_sign_arr.size)\n",
    "\n",
    "\n",
    "plt.figure(figsize=(6,6))\n",
    "plt.hist(null_sign_vals, alpha = 0.5)\n",
    "plt.axvline(x=diff_sign, color='#191970')"
   ]
  },
  {
   "cell_type": "code",
   "execution_count": 10,
   "id": "050e246f",
   "metadata": {},
   "outputs": [
    {
     "data": {
      "text/plain": [
       "0.0319"
      ]
     },
     "execution_count": 10,
     "metadata": {},
     "output_type": "execute_result"
    }
   ],
   "source": [
    "p_val = (null_sign_vals > diff_sign).mean()\n",
    "p_val"
   ]
  },
  {
   "cell_type": "markdown",
   "id": "e60b9c05",
   "metadata": {},
   "source": [
    "### **Conclusion**\n",
    "\n",
    "\n",
    "- A p-value **0.0319** suggests with 95% confident (pre-set level of significance)  that we should reject the null hypothesis in favor of an alternative hypothesis , even though the observed difference overlaps with the region of acceptance of the null hypothesis which indicates we had made a **Type I Error** where incorrectly reject the null hypothesis when it’s actually true.\n",
    "\n",
    "- We don't want to draw incorrect conclusions that are produced by Type I error, thusit's safer to perform the additional testing before launching anything.\n",
    "\n",
    "- We can raise the level of statistical significance by increasing the sample size, but this requires more traffic and therefore takes more time. In the end, we have to strike a balance between the desired level of accuracy and the resources we have available.\n",
    "\n",
    "- We may raise the level of significance to **97% - 99%** where we allow ourselves to be wrong only **3% - 1%** of the time but raise the confidence interval up to 99%  is impractical, even though we will permanently delimited this problem of Type I Error as we will confidently approving that the null hypothesis is true.\n",
    "\n",
    "- Except that, the company doesn’t have the time and the traffic to do the experiment again, then we will doing the test again with alpha = 0.03 with 97% confidence interval, we conclude that : **since the p-value is more than the level of significant , thus we don’t have the statistical evidence to support the alternative hypothesis.**\n",
    "\n",
    "\n",
    "\n",
    "**Is this difference practically significant?**\n",
    "\n",
    "- Even in the business context , certainly a **2%** increment in the conversion rate of the sign up has a positive impact , but in this particular case it might have happened due to the random chance. Moreover , it is not the desired change that this business was looking for , and definitely not when the first test result itself is doutable."
   ]
  },
  {
   "cell_type": "markdown",
   "id": "cac689be",
   "metadata": {},
   "source": [
    "## # Homepage \n",
    "\n",
    "The company did many adjustments in the homepage like : moving the place of the icons in the header under the search bar to the upper side, changing color and font size , and so on."
   ]
  },
  {
   "cell_type": "markdown",
   "id": "67a51a04",
   "metadata": {},
   "source": [
    "### **Metric 1 : CTR**"
   ]
  },
  {
   "cell_type": "code",
   "execution_count": 52,
   "id": "bf217301",
   "metadata": {},
   "outputs": [
    {
     "data": {
      "text/html": [
       "<div>\n",
       "<style scoped>\n",
       "    .dataframe tbody tr th:only-of-type {\n",
       "        vertical-align: middle;\n",
       "    }\n",
       "\n",
       "    .dataframe tbody tr th {\n",
       "        vertical-align: top;\n",
       "    }\n",
       "\n",
       "    .dataframe thead th {\n",
       "        text-align: right;\n",
       "    }\n",
       "</style>\n",
       "<table border=\"1\" class=\"dataframe\">\n",
       "  <thead>\n",
       "    <tr style=\"text-align: right;\">\n",
       "      <th></th>\n",
       "      <th>id</th>\n",
       "      <th>group</th>\n",
       "      <th>page</th>\n",
       "      <th>actions</th>\n",
       "    </tr>\n",
       "  </thead>\n",
       "  <tbody>\n",
       "    <tr>\n",
       "      <th>0</th>\n",
       "      <td>17259</td>\n",
       "      <td>treatment</td>\n",
       "      <td>new page</td>\n",
       "      <td>view</td>\n",
       "    </tr>\n",
       "    <tr>\n",
       "      <th>1</th>\n",
       "      <td>15167</td>\n",
       "      <td>control</td>\n",
       "      <td>old page</td>\n",
       "      <td>view</td>\n",
       "    </tr>\n",
       "  </tbody>\n",
       "</table>\n",
       "</div>"
      ],
      "text/plain": [
       "      id      group      page actions\n",
       "0  17259  treatment  new page    view\n",
       "1  15167    control  old page    view"
      ]
     },
     "execution_count": 52,
     "metadata": {},
     "output_type": "execute_result"
    }
   ],
   "source": [
    "df_homepage = pd.read_csv('ecommerce_homepage_actions.csv')\n",
    "df_homepage.head(2)"
   ]
  },
  {
   "cell_type": "code",
   "execution_count": 53,
   "id": "2bd4f99c",
   "metadata": {},
   "outputs": [
    {
     "data": {
      "text/plain": [
       "control      7600\n",
       "treatment    6700\n",
       "Name: group, dtype: int64"
      ]
     },
     "execution_count": 53,
     "metadata": {},
     "output_type": "execute_result"
    }
   ],
   "source": [
    "df_homepage.group.value_counts()"
   ]
  },
  {
   "cell_type": "code",
   "execution_count": 55,
   "id": "8fa817c5",
   "metadata": {},
   "outputs": [
    {
     "data": {
      "text/plain": [
       "control      0.531469\n",
       "treatment    0.468531\n",
       "Name: group, dtype: float64"
      ]
     },
     "execution_count": 55,
     "metadata": {},
     "output_type": "execute_result"
    }
   ],
   "source": [
    "df_homepage.group.value_counts(normalize=True)"
   ]
  },
  {
   "cell_type": "code",
   "execution_count": 57,
   "id": "4bd841b0",
   "metadata": {},
   "outputs": [
    {
     "data": {
      "text/plain": [
       "group      actions\n",
       "control    view       6744\n",
       "           click       856\n",
       "treatment  view       5924\n",
       "           click       776\n",
       "Name: actions, dtype: int64"
      ]
     },
     "execution_count": 57,
     "metadata": {},
     "output_type": "execute_result"
    }
   ],
   "source": [
    "homepage_group = df_homepage.groupby('group')\n",
    "homepage_group['actions'].value_counts()"
   ]
  },
  {
   "cell_type": "code",
   "execution_count": 58,
   "id": "0803523f",
   "metadata": {},
   "outputs": [
    {
     "data": {
      "text/plain": [
       "group      actions\n",
       "control    view       0.887368\n",
       "           click      0.112632\n",
       "treatment  view       0.884179\n",
       "           click      0.115821\n",
       "Name: actions, dtype: float64"
      ]
     },
     "execution_count": 58,
     "metadata": {},
     "output_type": "execute_result"
    }
   ],
   "source": [
    "homepage_group['actions'].value_counts(normalize=True)"
   ]
  },
  {
   "cell_type": "code",
   "execution_count": 61,
   "id": "8c08d808",
   "metadata": {},
   "outputs": [
    {
     "data": {
      "text/plain": [
       "<AxesSubplot:xlabel='group', ylabel='count'>"
      ]
     },
     "execution_count": 61,
     "metadata": {},
     "output_type": "execute_result"
    },
    {
     "data": {
      "image/png": "[encoded data removed]",
      "text/plain": [
       "<Figure size 576x432 with 1 Axes>"
      ]
     },
     "metadata": {},
     "output_type": "display_data"
    }
   ],
   "source": [
    "fig= plt.figure(figsize = (8, 6))\n",
    "\n",
    "sns.countplot(x = 'group', data = df_homepage, order = df_homepage['group'].value_counts().index, hue='actions')"
   ]
  },
  {
   "cell_type": "markdown",
   "id": "3bbf0f8c",
   "metadata": {},
   "source": [
    "**Insights**\n",
    "\n",
    "- The users in the control group are **7600** and in the treatment is **6700**.\n",
    "- There is more traffic in the control group than the treatment group, about **7%** difference.\n",
    "- Generally , the views are more than the clicks in both groups."
   ]
  },
  {
   "cell_type": "markdown",
   "id": "b1d8b166",
   "metadata": {},
   "source": [
    "**Define Click Through Rate (CTR) Function**"
   ]
  },
  {
   "cell_type": "code",
   "execution_count": 172,
   "id": "bd27c89a",
   "metadata": {},
   "outputs": [],
   "source": [
    "def CTR_func(clicks, views):\n",
    "    ctr = clicks / views\n",
    "    return ctr"
   ]
  },
  {
   "cell_type": "markdown",
   "id": "ba1f438c",
   "metadata": {},
   "source": [
    "**Click Through Rate (CRT) Of The Old Page**"
   ]
  },
  {
   "cell_type": "code",
   "execution_count": 229,
   "id": "2e3accb3",
   "metadata": {},
   "outputs": [
    {
     "name": "stdout",
     "output_type": "stream",
     "text": [
      "The CTR of the old page is: 0.3 \n"
     ]
    }
   ],
   "source": [
    "click_old = df_homepage.query('page == \"old page\" & actions == \"click\"').id.nunique()\n",
    "view_old = df_homepage.query('page == \"old page\" & actions == \"view\"').id.nunique()\n",
    "conv_rate_homepage_old = CTR_func(click_old, view_old)\n",
    "print('The CTR of the old page is: {} '.format(round(conv_rate_homepage_old , 2)))"
   ]
  },
  {
   "cell_type": "markdown",
   "id": "20867f42",
   "metadata": {},
   "source": [
    "**Click Through Rate (CRT) Of The New Page**"
   ]
  },
  {
   "cell_type": "code",
   "execution_count": 230,
   "id": "7d261a72",
   "metadata": {},
   "outputs": [
    {
     "name": "stdout",
     "output_type": "stream",
     "text": [
      "The CTR of the new page is: 0.36 \n"
     ]
    }
   ],
   "source": [
    "click_new = df_homepage.query('page == \"new page\" & actions == \"click\"').id.nunique()\n",
    "view_new = df_homepage.query('page == \"new page\" & actions == \"view\"').id.nunique()\n",
    "conv_rate_homepage_new = CTR_func(click_new, view_new)\n",
    "print('The CTR of the new page is: {} '.format(round(conv_rate_homepage_new , 2)))"
   ]
  },
  {
   "cell_type": "markdown",
   "id": "5b0e0719",
   "metadata": {},
   "source": [
    "**The Difference Between The Old & New Pages**"
   ]
  },
  {
   "cell_type": "code",
   "execution_count": 233,
   "id": "15e01071",
   "metadata": {},
   "outputs": [
    {
     "name": "stdout",
     "output_type": "stream",
     "text": [
      "The difference between the old and the new page is : 0.06 \n"
     ]
    }
   ],
   "source": [
    "diff_homepage = conv_rate_homepage_new - conv_rate_homepage_old\n",
    "print('The difference between the old and the new page is : {} '.format(round(diff_homepage , 2)))"
   ]
  },
  {
   "cell_type": "markdown",
   "id": "61e36a63",
   "metadata": {},
   "source": [
    "**Insights**\n",
    "\n",
    "- The click through rate of the control group is **30%**\n",
    "- The click through rate of the treatment group is **36%**.\n",
    "- The difference between the click through rates for both groups is about **6%**."
   ]
  },
  {
   "cell_type": "markdown",
   "id": "9c2c3ac4",
   "metadata": {},
   "source": [
    "At the level of significance (0.05), Do we have significant evidence to say there's a difference in the CTR rates of the two page ?\n",
    "\n",
    "**Null Hypothesis** : CTR *new* - CTR *old* =< 0\n",
    "\n",
    "**Alternative Hypothesis** : CTR *new* - CTR *old* > 0"
   ]
  },
  {
   "cell_type": "code",
   "execution_count": 193,
   "id": "6ede71a0",
   "metadata": {},
   "outputs": [
    {
     "data": {
      "text/plain": [
       "10000"
      ]
     },
     "execution_count": 193,
     "metadata": {},
     "output_type": "execute_result"
    }
   ],
   "source": [
    "diffs_list = []\n",
    "\n",
    "for diff in range(10000):\n",
    "    b_samp = df_homepage.sample(df_homepage.shape[0], replace=True)\n",
    "    click_old = b_samp.query('page == \"old page\" & actions == \"click\"').id.nunique()\n",
    "    view_old = b_samp.query('page == \"old page\" & actions == \"view\"').id.nunique()\n",
    "    click_new = b_samp.query('page == \"new page\" & actions == \"click\"').id.nunique()\n",
    "    view_new = b_samp.query('page == \"new page\" & actions == \"view\"').id.nunique()\n",
    "    conv_rate_homepage_old = CTR_func(click_old, view_old)\n",
    "    conv_rate_homepage_new = CTR_func(click_new, view_new)\n",
    "    \n",
    "    diffs_list.append(conv_rate_homepage_new - conv_rate_homepage_old)\n",
    "len(diffs_list)"
   ]
  },
  {
   "cell_type": "code",
   "execution_count": 198,
   "id": "1ef8fbef",
   "metadata": {},
   "outputs": [
    {
     "data": {
      "image/png": "[encoded data removed]",
      "text/plain": [
       "<Figure size 432x432 with 1 Axes>"
      ]
     },
     "metadata": {},
     "output_type": "display_data"
    }
   ],
   "source": [
    "plt.figure(figsize=(6,6))\n",
    "plt.hist(diffs_list, alpha = 0.5);"
   ]
  },
  {
   "cell_type": "code",
   "execution_count": 199,
   "id": "0a419926",
   "metadata": {},
   "outputs": [],
   "source": [
    "diff_arr = np.array(diffs_list)\n",
    "null_vals = np.random.normal(0, diff_arr.std(), diff_arr.size)"
   ]
  },
  {
   "cell_type": "code",
   "execution_count": 200,
   "id": "f2549a38",
   "metadata": {},
   "outputs": [
    {
     "data": {
      "text/plain": [
       "<matplotlib.lines.Line2D at 0x1b3f8b61880>"
      ]
     },
     "execution_count": 200,
     "metadata": {},
     "output_type": "execute_result"
    },
    {
     "data": {
      "image/png": "[encoded data removed]",
      "text/plain": [
       "<Figure size 432x432 with 1 Axes>"
      ]
     },
     "metadata": {},
     "output_type": "display_data"
    }
   ],
   "source": [
    "plt.figure(figsize=(6,6))\n",
    "plt.hist(null_vals, alpha = 0.5)\n",
    "plt.axvline(x=diff_homepage, color='#191970')"
   ]
  },
  {
   "cell_type": "code",
   "execution_count": 201,
   "id": "87b52c24",
   "metadata": {},
   "outputs": [
    {
     "data": {
      "text/plain": [
       "0.0"
      ]
     },
     "execution_count": 201,
     "metadata": {},
     "output_type": "execute_result"
    }
   ],
   "source": [
    "p_val = (null_vals > diff_homepage).mean()\n",
    "p_val"
   ]
  },
  {
   "cell_type": "markdown",
   "id": "2f560097",
   "metadata": {},
   "source": [
    "### **Conclusion**\n",
    "\n",
    "- As we see above the p-value of **0.0** indicates that it's highly significant and it suggests there was absolutely no chance of getting this result if the null hypothesis was true. Therefore , we reject our null in favor of an alternative hypothesis.\n",
    "\n",
    "- With 95% confidence , there's enough statistical evidence to say that there's a difference between the CTRs of the  between new and old homepage.\n",
    "\n",
    "**Is this difference practically significant?**\n",
    "\n",
    "- In business perspective, **6%** uplift in the click-through-rate is a good  difference to consider , especially when the experiment ran for 2 weeks. Therefore , we can say  that the new homepage design helped in improving the CTR more than the old , in which it's very unlikely that the difference happened due to pure chance alone."
   ]
  },
  {
   "cell_type": "markdown",
   "id": "c6e5839c",
   "metadata": {},
   "source": [
    "### **Metric 2 : Session Time**"
   ]
  },
  {
   "cell_type": "markdown",
   "id": "28aca75d",
   "metadata": {},
   "source": [
    "Also , the company is interested to know how these adjustments impact the users' session time."
   ]
  },
  {
   "cell_type": "code",
   "execution_count": 63,
   "id": "07eb5ea5",
   "metadata": {},
   "outputs": [
    {
     "data": {
      "text/html": [
       "<div>\n",
       "<style scoped>\n",
       "    .dataframe tbody tr th:only-of-type {\n",
       "        vertical-align: middle;\n",
       "    }\n",
       "\n",
       "    .dataframe tbody tr th {\n",
       "        vertical-align: top;\n",
       "    }\n",
       "\n",
       "    .dataframe thead th {\n",
       "        text-align: right;\n",
       "    }\n",
       "</style>\n",
       "<table border=\"1\" class=\"dataframe\">\n",
       "  <thead>\n",
       "    <tr style=\"text-align: right;\">\n",
       "      <th></th>\n",
       "      <th>id</th>\n",
       "      <th>group</th>\n",
       "      <th>page</th>\n",
       "      <th>session_time</th>\n",
       "    </tr>\n",
       "  </thead>\n",
       "  <tbody>\n",
       "    <tr>\n",
       "      <th>0</th>\n",
       "      <td>15721</td>\n",
       "      <td>control</td>\n",
       "      <td>old page</td>\n",
       "      <td>2.0</td>\n",
       "    </tr>\n",
       "    <tr>\n",
       "      <th>1</th>\n",
       "      <td>19228</td>\n",
       "      <td>treatment</td>\n",
       "      <td>new page</td>\n",
       "      <td>2.0</td>\n",
       "    </tr>\n",
       "  </tbody>\n",
       "</table>\n",
       "</div>"
      ],
      "text/plain": [
       "      id      group      page  session_time\n",
       "0  15721    control  old page           2.0\n",
       "1  19228  treatment  new page           2.0"
      ]
     },
     "execution_count": 63,
     "metadata": {},
     "output_type": "execute_result"
    }
   ],
   "source": [
    "df_sessions = pd.read_csv('homepage_sessions.csv')\n",
    "df_sessions.head(2)"
   ]
  },
  {
   "cell_type": "markdown",
   "id": "6d27fbcb",
   "metadata": {},
   "source": [
    "**The AVG OF The Session Time Of The Old Page**"
   ]
  },
  {
   "cell_type": "code",
   "execution_count": 218,
   "id": "d21c4f1a",
   "metadata": {},
   "outputs": [
    {
     "name": "stdout",
     "output_type": "stream",
     "text": [
      "The AVG of the session time of the old page is : 1.75 minutes\n"
     ]
    }
   ],
   "source": [
    "avg_session_old = df_sessions.query('page == \"old page\"').session_time.mean()\n",
    "print('The AVG of the session time of the old page is : {} minutes'.format(round(avg_session_old , 2)))"
   ]
  },
  {
   "cell_type": "markdown",
   "id": "6971488d",
   "metadata": {},
   "source": [
    "**The AVG OF The Session Time Of The New Page**"
   ]
  },
  {
   "cell_type": "code",
   "execution_count": 219,
   "id": "f31cb2ad",
   "metadata": {},
   "outputs": [
    {
     "name": "stdout",
     "output_type": "stream",
     "text": [
      "The AVG of the session time of the new page is : 2.25 minutes\n"
     ]
    }
   ],
   "source": [
    "avg_session_new = df_sessions.query('page == \"new page\"').session_time.mean()\n",
    "print('The AVG of the session time of the new page is : {} minutes'.format(round(avg_session_new , 2)))"
   ]
  },
  {
   "cell_type": "markdown",
   "id": "085d26b3",
   "metadata": {},
   "source": [
    "**The Difference Between The AVGs Of The Old & New Pages**"
   ]
  },
  {
   "cell_type": "code",
   "execution_count": 220,
   "id": "274cf2d0",
   "metadata": {},
   "outputs": [
    {
     "name": "stdout",
     "output_type": "stream",
     "text": [
      "The difference between the AVGs of the old & new pages is: 0.5 seconds\n"
     ]
    }
   ],
   "source": [
    "diff_sess = avg_session_new - avg_session_old\n",
    "print('The difference between the AVGs of the old & new pages is: {} seconds'.format(round(diff_sess , 2)))"
   ]
  },
  {
   "cell_type": "markdown",
   "id": "03b34f92",
   "metadata": {},
   "source": [
    "At the level of significance (0.05), Do we have significant evidence to say there's a difference in the averge session time of the two page ?\n",
    "\n",
    "**Null Hypothesis** : AVG Session Time *(new)* - AVG Session Time *(old)* =< 0\n",
    "\n",
    "**Alternative Hypothesis** : AVG Session Time *(new)* - AVG Session Time *(old)* > 0"
   ]
  },
  {
   "cell_type": "code",
   "execution_count": 210,
   "id": "770201a4",
   "metadata": {},
   "outputs": [
    {
     "data": {
      "text/plain": [
       "10000"
      ]
     },
     "execution_count": 210,
     "metadata": {},
     "output_type": "execute_result"
    }
   ],
   "source": [
    "diffs_sess_list = []\n",
    "\n",
    "for diff in range(10000):\n",
    "    b_samp = df_sessions.sample(df_sessions.shape[0], replace=True)\n",
    "    avg_session_old = b_samp.query('page == \"old page\"').session_time.mean()\n",
    "    avg_session_new = b_samp.query('page == \"new page\"').session_time.mean()\n",
    "    diffs_sess_list.append(avg_session_new - avg_session_old)\n",
    "len(diffs_sess_list)"
   ]
  },
  {
   "cell_type": "code",
   "execution_count": 212,
   "id": "0d066a0a",
   "metadata": {},
   "outputs": [
    {
     "data": {
      "image/png": "[encoded data removed]",
      "text/plain": [
       "<Figure size 432x432 with 1 Axes>"
      ]
     },
     "metadata": {},
     "output_type": "display_data"
    }
   ],
   "source": [
    "plt.figure(figsize=(6,6))\n",
    "plt.hist(diffs_sess_list, alpha = 0.5);"
   ]
  },
  {
   "cell_type": "code",
   "execution_count": 213,
   "id": "dd056580",
   "metadata": {},
   "outputs": [],
   "source": [
    "diff_sess_arr = np.array(diffs_sess_list)\n",
    "null_sess_vals = np.random.normal(0, diff_sess_arr.std(), diff_sess_arr.size)"
   ]
  },
  {
   "cell_type": "code",
   "execution_count": 214,
   "id": "ca46617b",
   "metadata": {},
   "outputs": [
    {
     "data": {
      "text/plain": [
       "<matplotlib.lines.Line2D at 0x1b3f89a3c10>"
      ]
     },
     "execution_count": 214,
     "metadata": {},
     "output_type": "execute_result"
    },
    {
     "data": {
      "image/png": "[encoded data removed]",
      "text/plain": [
       "<Figure size 432x432 with 1 Axes>"
      ]
     },
     "metadata": {},
     "output_type": "display_data"
    }
   ],
   "source": [
    "plt.figure(figsize=(6,6))\n",
    "plt.hist(null_sess_vals, alpha = 0.5)\n",
    "plt.axvline(x=diff_sess, color='#191970')"
   ]
  },
  {
   "cell_type": "code",
   "execution_count": 22,
   "id": "2b909c22",
   "metadata": {},
   "outputs": [
    {
     "data": {
      "text/plain": [
       "0.0"
      ]
     },
     "execution_count": 22,
     "metadata": {},
     "output_type": "execute_result"
    }
   ],
   "source": [
    "p_val = (null_sess_vals > diff_sess).mean()\n",
    "p_val"
   ]
  },
  {
   "cell_type": "markdown",
   "id": "96a88990",
   "metadata": {},
   "source": [
    "### **Conclusion**\n",
    "\n",
    "- As we see above the p-value of **0.0** indicates that it's highly significant and it's very unlikely that it occurred by chance alone.Therefore , we reject our null in favor of an alternative hypothesis.\n",
    "\n",
    "\n",
    "- With 95% confidence, there's enough statistical evidence to say that there's a difference between the session duration of the new and old homepage.\n",
    "\n",
    "**Is this difference practically significant?**\n",
    "\n",
    "- Practically speaking , the new homepage slightly makes the visitors more engaging for **50 seconds** on the average and that's a sign of positive reaction."
   ]
  },
  {
   "cell_type": "markdown",
   "id": "633eaa75",
   "metadata": {},
   "source": [
    "## #Payment Methods\n",
    "\n",
    "The company introduced new payment options in order to increase the **AOV**. Also , to observe how the users might interact with these new additions."
   ]
  },
  {
   "cell_type": "markdown",
   "id": "ff0dabdf",
   "metadata": {},
   "source": [
    "### **Metric : Average Order Value (AOV)**"
   ]
  },
  {
   "cell_type": "code",
   "execution_count": 78,
   "id": "a604e584",
   "metadata": {},
   "outputs": [
    {
     "data": {
      "text/html": [
       "<div>\n",
       "<style scoped>\n",
       "    .dataframe tbody tr th:only-of-type {\n",
       "        vertical-align: middle;\n",
       "    }\n",
       "\n",
       "    .dataframe tbody tr th {\n",
       "        vertical-align: top;\n",
       "    }\n",
       "\n",
       "    .dataframe thead th {\n",
       "        text-align: right;\n",
       "    }\n",
       "</style>\n",
       "<table border=\"1\" class=\"dataframe\">\n",
       "  <thead>\n",
       "    <tr style=\"text-align: right;\">\n",
       "      <th></th>\n",
       "      <th>id</th>\n",
       "      <th>group</th>\n",
       "      <th>page</th>\n",
       "      <th>payment_opt</th>\n",
       "      <th>transacions</th>\n",
       "      <th>revenue</th>\n",
       "    </tr>\n",
       "  </thead>\n",
       "  <tbody>\n",
       "    <tr>\n",
       "      <th>0</th>\n",
       "      <td>11468</td>\n",
       "      <td>control</td>\n",
       "      <td>old page</td>\n",
       "      <td>PayPal</td>\n",
       "      <td>3</td>\n",
       "      <td>251.0</td>\n",
       "    </tr>\n",
       "    <tr>\n",
       "      <th>1</th>\n",
       "      <td>12290</td>\n",
       "      <td>control</td>\n",
       "      <td>old page</td>\n",
       "      <td>Cash On Delivery (COD)</td>\n",
       "      <td>4</td>\n",
       "      <td>1052.5</td>\n",
       "    </tr>\n",
       "  </tbody>\n",
       "</table>\n",
       "</div>"
      ],
      "text/plain": [
       "      id    group      page             payment_opt  transacions  revenue\n",
       "0  11468  control  old page                  PayPal            3    251.0\n",
       "1  12290  control  old page  Cash On Delivery (COD)            4   1052.5"
      ]
     },
     "execution_count": 78,
     "metadata": {},
     "output_type": "execute_result"
    }
   ],
   "source": [
    "df_paymnt = pd.read_csv('payment_opt.csv')\n",
    "df_paymnt.head(2)"
   ]
  },
  {
   "cell_type": "code",
   "execution_count": 97,
   "id": "817991fd",
   "metadata": {},
   "outputs": [
    {
     "data": {
      "text/plain": [
       "treatment    1028\n",
       "control       978\n",
       "Name: group, dtype: int64"
      ]
     },
     "execution_count": 97,
     "metadata": {},
     "output_type": "execute_result"
    }
   ],
   "source": [
    "df_paymnt['group'].value_counts()"
   ]
  },
  {
   "cell_type": "markdown",
   "id": "3a9cb6f7",
   "metadata": {},
   "source": [
    "**The total transactions received during the experiment regardless of the old or new page**"
   ]
  },
  {
   "cell_type": "code",
   "execution_count": 79,
   "id": "ab00392e",
   "metadata": {},
   "outputs": [
    {
     "data": {
      "text/html": [
       "<div>\n",
       "<style scoped>\n",
       "    .dataframe tbody tr th:only-of-type {\n",
       "        vertical-align: middle;\n",
       "    }\n",
       "\n",
       "    .dataframe tbody tr th {\n",
       "        vertical-align: top;\n",
       "    }\n",
       "\n",
       "    .dataframe thead th {\n",
       "        text-align: right;\n",
       "    }\n",
       "</style>\n",
       "<table border=\"1\" class=\"dataframe\">\n",
       "  <thead>\n",
       "    <tr style=\"text-align: right;\">\n",
       "      <th></th>\n",
       "      <th></th>\n",
       "      <th></th>\n",
       "      <th>transacions</th>\n",
       "    </tr>\n",
       "    <tr>\n",
       "      <th>group</th>\n",
       "      <th>page</th>\n",
       "      <th>payment_opt</th>\n",
       "      <th></th>\n",
       "    </tr>\n",
       "  </thead>\n",
       "  <tbody>\n",
       "    <tr>\n",
       "      <th rowspan=\"2\" valign=\"top\">treatment</th>\n",
       "      <th rowspan=\"2\" valign=\"top\">new page</th>\n",
       "      <th>Postpaid Methods</th>\n",
       "      <td>2166</td>\n",
       "    </tr>\n",
       "    <tr>\n",
       "      <th>Apple Pay</th>\n",
       "      <td>1841</td>\n",
       "    </tr>\n",
       "    <tr>\n",
       "      <th rowspan=\"3\" valign=\"top\">control</th>\n",
       "      <th rowspan=\"3\" valign=\"top\">old page</th>\n",
       "      <th>Credit Cards</th>\n",
       "      <td>666</td>\n",
       "    </tr>\n",
       "    <tr>\n",
       "      <th>PayPal</th>\n",
       "      <td>657</td>\n",
       "    </tr>\n",
       "    <tr>\n",
       "      <th>Cash On Delivery (COD)</th>\n",
       "      <td>648</td>\n",
       "    </tr>\n",
       "    <tr>\n",
       "      <th rowspan=\"3\" valign=\"top\">treatment</th>\n",
       "      <th rowspan=\"3\" valign=\"top\">new page</th>\n",
       "      <th>Credit Cards</th>\n",
       "      <td>413</td>\n",
       "    </tr>\n",
       "    <tr>\n",
       "      <th>PayPal</th>\n",
       "      <td>391</td>\n",
       "    </tr>\n",
       "    <tr>\n",
       "      <th>Cash On Delivery (COD)</th>\n",
       "      <td>350</td>\n",
       "    </tr>\n",
       "  </tbody>\n",
       "</table>\n",
       "</div>"
      ],
      "text/plain": [
       "                                           transacions\n",
       "group     page     payment_opt                        \n",
       "treatment new page Postpaid Methods               2166\n",
       "                   Apple Pay                      1841\n",
       "control   old page Credit Cards                    666\n",
       "                   PayPal                          657\n",
       "                   Cash On Delivery (COD)          648\n",
       "treatment new page Credit Cards                    413\n",
       "                   PayPal                          391\n",
       "                   Cash On Delivery (COD)          350"
      ]
     },
     "execution_count": 79,
     "metadata": {},
     "output_type": "execute_result"
    }
   ],
   "source": [
    "trans_pivot = pd.pivot_table(df_paymnt, index=['group', 'page', 'payment_opt'], columns=None, values='transacions', aggfunc=np.sum)\n",
    "trans_pivot.sort_values(by = 'transacions', ascending=False)"
   ]
  },
  {
   "cell_type": "markdown",
   "id": "09f00d91",
   "metadata": {},
   "source": [
    "**The total revenue received during the experiment regardless of the old or new page**"
   ]
  },
  {
   "cell_type": "code",
   "execution_count": 80,
   "id": "ce6772bb",
   "metadata": {},
   "outputs": [
    {
     "data": {
      "text/html": [
       "<div>\n",
       "<style scoped>\n",
       "    .dataframe tbody tr th:only-of-type {\n",
       "        vertical-align: middle;\n",
       "    }\n",
       "\n",
       "    .dataframe tbody tr th {\n",
       "        vertical-align: top;\n",
       "    }\n",
       "\n",
       "    .dataframe thead th {\n",
       "        text-align: right;\n",
       "    }\n",
       "</style>\n",
       "<table border=\"1\" class=\"dataframe\">\n",
       "  <thead>\n",
       "    <tr style=\"text-align: right;\">\n",
       "      <th></th>\n",
       "      <th></th>\n",
       "      <th></th>\n",
       "      <th>revenue</th>\n",
       "    </tr>\n",
       "    <tr>\n",
       "      <th>group</th>\n",
       "      <th>page</th>\n",
       "      <th>payment_opt</th>\n",
       "      <th></th>\n",
       "    </tr>\n",
       "  </thead>\n",
       "  <tbody>\n",
       "    <tr>\n",
       "      <th rowspan=\"2\" valign=\"top\">treatment</th>\n",
       "      <th rowspan=\"2\" valign=\"top\">new page</th>\n",
       "      <th>Postpaid Methods</th>\n",
       "      <td>898690.0</td>\n",
       "    </tr>\n",
       "    <tr>\n",
       "      <th>Apple Pay</th>\n",
       "      <td>718773.5</td>\n",
       "    </tr>\n",
       "    <tr>\n",
       "      <th rowspan=\"3\" valign=\"top\">control</th>\n",
       "      <th rowspan=\"3\" valign=\"top\">old page</th>\n",
       "      <th>Credit Cards</th>\n",
       "      <td>215050.0</td>\n",
       "    </tr>\n",
       "    <tr>\n",
       "      <th>PayPal</th>\n",
       "      <td>211368.5</td>\n",
       "    </tr>\n",
       "    <tr>\n",
       "      <th>Cash On Delivery (COD)</th>\n",
       "      <td>188163.0</td>\n",
       "    </tr>\n",
       "    <tr>\n",
       "      <th rowspan=\"3\" valign=\"top\">treatment</th>\n",
       "      <th rowspan=\"3\" valign=\"top\">new page</th>\n",
       "      <th>Credit Cards</th>\n",
       "      <td>169308.0</td>\n",
       "    </tr>\n",
       "    <tr>\n",
       "      <th>PayPal</th>\n",
       "      <td>156701.0</td>\n",
       "    </tr>\n",
       "    <tr>\n",
       "      <th>Cash On Delivery (COD)</th>\n",
       "      <td>139548.5</td>\n",
       "    </tr>\n",
       "  </tbody>\n",
       "</table>\n",
       "</div>"
      ],
      "text/plain": [
       "                                            revenue\n",
       "group     page     payment_opt                     \n",
       "treatment new page Postpaid Methods        898690.0\n",
       "                   Apple Pay               718773.5\n",
       "control   old page Credit Cards            215050.0\n",
       "                   PayPal                  211368.5\n",
       "                   Cash On Delivery (COD)  188163.0\n",
       "treatment new page Credit Cards            169308.0\n",
       "                   PayPal                  156701.0\n",
       "                   Cash On Delivery (COD)  139548.5"
      ]
     },
     "execution_count": 80,
     "metadata": {},
     "output_type": "execute_result"
    }
   ],
   "source": [
    "rev_pivot = pd.pivot_table(df_paymnt, index=['group', 'page', 'payment_opt'], columns=None, values='revenue', aggfunc=np.sum)\n",
    "rev_pivot.sort_values(by = 'revenue', ascending=False)"
   ]
  },
  {
   "cell_type": "markdown",
   "id": "8133ed21",
   "metadata": {},
   "source": [
    "**Ranking payment options for the control group in term of the transactions made during the last 2 weeks**"
   ]
  },
  {
   "cell_type": "code",
   "execution_count": 81,
   "id": "1ec32e2d",
   "metadata": {},
   "outputs": [
    {
     "data": {
      "text/plain": [
       "payment_opt\n",
       "Credit Cards              666\n",
       "PayPal                    657\n",
       "Cash On Delivery (COD)    648\n",
       "Name: transacions, dtype: int64"
      ]
     },
     "execution_count": 81,
     "metadata": {},
     "output_type": "execute_result"
    }
   ],
   "source": [
    "control_trans = df_paymnt.query('group == \"control\"')\n",
    "group_trans = control_trans.groupby(control_trans['payment_opt'])\n",
    "group_trans['transacions'].sum().sort_values(ascending = False)"
   ]
  },
  {
   "cell_type": "markdown",
   "id": "ffc45c3a",
   "metadata": {},
   "source": [
    "**Ranking payment options for the treatment group in term of the transactions made during the last 2 weeks**"
   ]
  },
  {
   "cell_type": "code",
   "execution_count": 82,
   "id": "1e1aa739",
   "metadata": {},
   "outputs": [
    {
     "data": {
      "text/plain": [
       "payment_opt\n",
       "Postpaid Methods          2166\n",
       "Apple Pay                 1841\n",
       "Credit Cards               413\n",
       "PayPal                     391\n",
       "Cash On Delivery (COD)     350\n",
       "Name: transacions, dtype: int64"
      ]
     },
     "execution_count": 82,
     "metadata": {},
     "output_type": "execute_result"
    }
   ],
   "source": [
    "treatment_trans = df_paymnt.query('group == \"treatment\"')\n",
    "group_trans = treatment_trans.groupby(treatment_trans['payment_opt'])\n",
    "group_trans['transacions'].sum().sort_values(ascending = False)"
   ]
  },
  {
   "cell_type": "markdown",
   "id": "07683aa8",
   "metadata": {},
   "source": [
    "**Ranking payment options for the control group in term of the revenue generated during the last 2 weeks**"
   ]
  },
  {
   "cell_type": "code",
   "execution_count": 83,
   "id": "4e8f5526",
   "metadata": {},
   "outputs": [
    {
     "data": {
      "text/plain": [
       "payment_opt\n",
       "Credit Cards              215050.0\n",
       "PayPal                    211368.5\n",
       "Cash On Delivery (COD)    188163.0\n",
       "Name: revenue, dtype: float64"
      ]
     },
     "execution_count": 83,
     "metadata": {},
     "output_type": "execute_result"
    }
   ],
   "source": [
    "control_rev = df_paymnt.query('group == \"control\"')\n",
    "group_rev = control_rev.groupby(control_rev['payment_opt'])\n",
    "group_rev['revenue'].sum().sort_values(ascending = False)"
   ]
  },
  {
   "cell_type": "markdown",
   "id": "2d656f0e",
   "metadata": {},
   "source": [
    "**Ranking payment options for the treatment group in term of the revenue generated during the last 2 weeks**"
   ]
  },
  {
   "cell_type": "code",
   "execution_count": 84,
   "id": "eabb4825",
   "metadata": {},
   "outputs": [
    {
     "data": {
      "text/plain": [
       "payment_opt\n",
       "Postpaid Methods          898690.0\n",
       "Apple Pay                 718773.5\n",
       "Credit Cards              169308.0\n",
       "PayPal                    156701.0\n",
       "Cash On Delivery (COD)    139548.5\n",
       "Name: revenue, dtype: float64"
      ]
     },
     "execution_count": 84,
     "metadata": {},
     "output_type": "execute_result"
    }
   ],
   "source": [
    "treatment_rev = df_paymnt.query('group == \"treatment\"')\n",
    "group_rev = treatment_rev.groupby(treatment_rev['payment_opt'])\n",
    "group_rev['revenue'].sum().sort_values(ascending = False)"
   ]
  },
  {
   "cell_type": "code",
   "execution_count": 88,
   "id": "d5067e19",
   "metadata": {},
   "outputs": [
    {
     "data": {
      "text/plain": [
       "Text(0.5, 1.0, 'The Control Vs. Treatment Group Payment Opts')"
      ]
     },
     "execution_count": 88,
     "metadata": {},
     "output_type": "execute_result"
    },
    {
     "data": {
      "image/png": "[encoded data removed]",
      "text/plain": [
       "<Figure size 864x576 with 1 Axes>"
      ]
     },
     "metadata": {},
     "output_type": "display_data"
    }
   ],
   "source": [
    "fig= plt.figure(figsize = (12, 8))\n",
    "\n",
    "sns.countplot(x = 'group', data = df_paymnt, order = df_paymnt['group'].value_counts().index, hue='payment_opt')\n",
    "\n",
    "plt.title('The Control Vs. Treatment Group Payment Opts')\n"
   ]
  },
  {
   "cell_type": "markdown",
   "id": "df2c2aea",
   "metadata": {},
   "source": [
    "**Insights**\n",
    "\n",
    "- There is more traffic in the treatment group than the control group.\n",
    "- Clearly , **postpaid methods** are trending payment options in terms of revenue and transactions made."
   ]
  },
  {
   "cell_type": "markdown",
   "id": "026d8111",
   "metadata": {},
   "source": [
    "**The Average Order Value (AOV) of the old page**"
   ]
  },
  {
   "cell_type": "code",
   "execution_count": 69,
   "id": "362ad243",
   "metadata": {},
   "outputs": [
    {
     "name": "stdout",
     "output_type": "stream",
     "text": [
      "The Average Order Value (AOV) of the old page is: 311.8 $\n"
     ]
    }
   ],
   "source": [
    "trans_old = df_paymnt.query('page == \"old page\"').transacions.sum()\n",
    "rev_old = df_paymnt.query('page == \"old page\"').revenue.sum()\n",
    "\n",
    "aov_old = rev_old/trans_old\n",
    "\n",
    "print('The Average Order Value (AOV) of the old page is: {} $'.format(round(aov_old, 1)))"
   ]
  },
  {
   "cell_type": "markdown",
   "id": "9f9eac7c",
   "metadata": {},
   "source": [
    "**The Average Order Value (AOV) of the new page**"
   ]
  },
  {
   "cell_type": "code",
   "execution_count": 70,
   "id": "b95a4d96",
   "metadata": {},
   "outputs": [
    {
     "name": "stdout",
     "output_type": "stream",
     "text": [
      "The Average Order Value (AOV) of the new page is: 403.6 $\n"
     ]
    }
   ],
   "source": [
    "trans_new = df_paymnt.query('page == \"new page\"').transacions.sum()\n",
    "rev_new = df_paymnt.query('page == \"new page\"').revenue.sum()\n",
    "\n",
    "aov_new = rev_new/trans_new\n",
    "\n",
    "print('The Average Order Value (AOV) of the new page is: {} $'.format(round(aov_new, 1)))"
   ]
  },
  {
   "cell_type": "markdown",
   "id": "9c84e46d",
   "metadata": {},
   "source": [
    "**The difference between the AOVs of the old & new pages**"
   ]
  },
  {
   "cell_type": "code",
   "execution_count": 71,
   "id": "60149010",
   "metadata": {},
   "outputs": [
    {
     "name": "stdout",
     "output_type": "stream",
     "text": [
      "The difference between the average order value of the old & new pages is: 92$\n"
     ]
    }
   ],
   "source": [
    "diff_aov = aov_new - aov_old\n",
    "print('The difference between the average order value of the old & new pages is: {}$'.format(round(diff_aov)))"
   ]
  },
  {
   "cell_type": "markdown",
   "id": "46d37ca6",
   "metadata": {},
   "source": [
    "As we know **Average Order Value (AOV)** tracks the average dollar amount spent every time when a customer places an order on a website.\n",
    "\n",
    "- The AOV of the control group is **311.8 US dollars** , while The AOV of the treament group is **403.6 US dollars**.\n",
    "- The differnces of AOVs is **92 US dollars**."
   ]
  },
  {
   "cell_type": "markdown",
   "id": "626a29e0",
   "metadata": {},
   "source": [
    "At the level of significance (0.05), Do we have significant evidence to say there's a difference in the averge order value of the two page ?\n",
    "\n",
    "**Null Hypothesis** : AOV *new* - AOV *old* =< 0\n",
    "\n",
    "**Alternative Hypothesis** : AOV *new* - AOV *old* > 0"
   ]
  },
  {
   "cell_type": "code",
   "execution_count": 72,
   "id": "05420d56",
   "metadata": {},
   "outputs": [
    {
     "data": {
      "text/plain": [
       "10000"
      ]
     },
     "execution_count": 72,
     "metadata": {},
     "output_type": "execute_result"
    }
   ],
   "source": [
    "diffs_aov = []\n",
    "\n",
    "for diff in range(10000):\n",
    "    b_samp = df_paymnt.sample(df_paymnt.shape[0], replace=True)\n",
    "    trans_old = b_samp.query('page == \"old page\"').transacions.sum()\n",
    "    rev_old = b_samp.query('page == \"old page\"').revenue.sum()\n",
    "    trans_new = b_samp.query('page == \"new page\"').transacions.sum()\n",
    "    rev_new = b_samp.query('page == \"new page\"').revenue.sum()\n",
    "    \n",
    "    aov_old = rev_old/trans_old\n",
    "    aov_new = rev_new/trans_new\n",
    "    \n",
    "    diffs_aov.append(aov_new - aov_old)\n",
    "len(diffs_aov)"
   ]
  },
  {
   "cell_type": "code",
   "execution_count": 73,
   "id": "6b1ceb9f",
   "metadata": {},
   "outputs": [
    {
     "data": {
      "image/png": "[encoded data removed]",
      "text/plain": [
       "<Figure size 432x432 with 1 Axes>"
      ]
     },
     "metadata": {},
     "output_type": "display_data"
    }
   ],
   "source": [
    "plt.figure(figsize=(6,6))\n",
    "plt.hist(diffs_aov, alpha = 0.5);"
   ]
  },
  {
   "cell_type": "code",
   "execution_count": 74,
   "id": "107f2984",
   "metadata": {},
   "outputs": [],
   "source": [
    "diff_aov_arr = np.array(diffs_aov)\n",
    "null_aov_vals = np.random.normal(0, diff_aov_arr.std(), diff_aov_arr.size)"
   ]
  },
  {
   "cell_type": "code",
   "execution_count": 75,
   "id": "0421154f",
   "metadata": {},
   "outputs": [
    {
     "data": {
      "text/plain": [
       "<matplotlib.lines.Line2D at 0x1b3f461f460>"
      ]
     },
     "execution_count": 75,
     "metadata": {},
     "output_type": "execute_result"
    },
    {
     "data": {
      "image/png": "[encoded data removed]",
      "text/plain": [
       "<Figure size 432x432 with 1 Axes>"
      ]
     },
     "metadata": {},
     "output_type": "display_data"
    }
   ],
   "source": [
    "plt.figure(figsize=(6,6))\n",
    "plt.hist(null_aov_vals, alpha = 0.5)\n",
    "plt.axvline(x=diff_aov, color='#191970')"
   ]
  },
  {
   "cell_type": "code",
   "execution_count": 76,
   "id": "11068b9f",
   "metadata": {},
   "outputs": [
    {
     "data": {
      "text/plain": [
       "0.0"
      ]
     },
     "execution_count": 76,
     "metadata": {},
     "output_type": "execute_result"
    }
   ],
   "source": [
    "p_val = (null_aov_vals > diff_aov).mean()\n",
    "p_val"
   ]
  },
  {
   "cell_type": "markdown",
   "id": "90ba14da",
   "metadata": {},
   "source": [
    "### **Conclusion**\n",
    "\n",
    "- A p-value of **0.0** indicates that we should reject our null hypothesis in favor of an alternative hypothesis.\n",
    "\n",
    "- With 95% confidence, there's statistical evidence to say that there's a difference between the AOVs of the new and old payment options.\n",
    "\n",
    "**Is this difference practically significant?**\n",
    "\n",
    "- In a business context, this observed difference of **92 US Dollars** refers to the fact that introducing the new payment options was a good idea to grow the Average Order Value , as the customers are now spending on average **403.6 US dollars** when they place an order.\n",
    "\n",
    "- However , we don't want to rush and draw the conclusions as we observed that most treatment users used the postpaid methods and ignored the other payment options , and that maybe what we called **the novelty effect** in which the users interact with the feature just because it’s new rather than the legitimate user interaction during an A/B test.and this of course would skew test results , in this cases it's better for run the experiment for longer time in order to allow for more time for these users to cool down from any initial positive reaction or spike of interest due to a change that was introduced as part of a treatment."
   ]
  },
  {
   "cell_type": "markdown",
   "id": "21892652",
   "metadata": {},
   "source": [
    "## #Product Description Pages (PDPs) \n",
    "\n",
    "- The company applied some adjustments to the product pages as well through changing some CTAs : like changing the names of buttons, and the direction of the product overview , ..., etc. Now they want to see if there's any difference in the visitor's behavior in terms of the engagement time with the new product pages , CTR of the purchase button."
   ]
  },
  {
   "cell_type": "markdown",
   "id": "ebc43d62",
   "metadata": {},
   "source": [
    " ### **Metric 1 : Engagement Time**"
   ]
  },
  {
   "cell_type": "code",
   "execution_count": 99,
   "id": "ed836b1b",
   "metadata": {},
   "outputs": [
    {
     "data": {
      "text/html": [
       "<div>\n",
       "<style scoped>\n",
       "    .dataframe tbody tr th:only-of-type {\n",
       "        vertical-align: middle;\n",
       "    }\n",
       "\n",
       "    .dataframe tbody tr th {\n",
       "        vertical-align: top;\n",
       "    }\n",
       "\n",
       "    .dataframe thead th {\n",
       "        text-align: right;\n",
       "    }\n",
       "</style>\n",
       "<table border=\"1\" class=\"dataframe\">\n",
       "  <thead>\n",
       "    <tr style=\"text-align: right;\">\n",
       "      <th></th>\n",
       "      <th>id</th>\n",
       "      <th>group</th>\n",
       "      <th>pdp_page</th>\n",
       "      <th>engagement_time</th>\n",
       "    </tr>\n",
       "  </thead>\n",
       "  <tbody>\n",
       "    <tr>\n",
       "      <th>0</th>\n",
       "      <td>14514</td>\n",
       "      <td>control</td>\n",
       "      <td>old page</td>\n",
       "      <td>2.0</td>\n",
       "    </tr>\n",
       "    <tr>\n",
       "      <th>1</th>\n",
       "      <td>30613</td>\n",
       "      <td>treatment</td>\n",
       "      <td>new page</td>\n",
       "      <td>1.0</td>\n",
       "    </tr>\n",
       "  </tbody>\n",
       "</table>\n",
       "</div>"
      ],
      "text/plain": [
       "      id      group  pdp_page  engagement_time\n",
       "0  14514    control  old page              2.0\n",
       "1  30613  treatment  new page              1.0"
      ]
     },
     "execution_count": 99,
     "metadata": {},
     "output_type": "execute_result"
    }
   ],
   "source": [
    "df_engmnt = pd.read_csv('pdp_engagement_time.csv')\n",
    "df_engmnt.head(2)"
   ]
  },
  {
   "cell_type": "markdown",
   "id": "536afda8",
   "metadata": {},
   "source": [
    "**The AVG engagement time of the old page**"
   ]
  },
  {
   "cell_type": "code",
   "execution_count": 242,
   "id": "79ca5d80",
   "metadata": {},
   "outputs": [
    {
     "name": "stdout",
     "output_type": "stream",
     "text": [
      "The AVG of the engagement time of the old page is : 2.3 minutes\n"
     ]
    }
   ],
   "source": [
    "avg_eng_old = df_engmnt.query('pdp_page == \"old page\"').engagement_time.mean()\n",
    "print('The AVG of the engagement time of the old page is : {} minutes'.format(round(avg_eng_old, 1)))"
   ]
  },
  {
   "cell_type": "markdown",
   "id": "b391a3c1",
   "metadata": {},
   "source": [
    "**The AVG engagement time of the new page**"
   ]
  },
  {
   "cell_type": "code",
   "execution_count": 243,
   "id": "cb824afb",
   "metadata": {},
   "outputs": [
    {
     "name": "stdout",
     "output_type": "stream",
     "text": [
      "The AVG of the engagement time of the new page is : 1.2 minutes\n"
     ]
    }
   ],
   "source": [
    "avg_eng_new = df_engmnt.query('pdp_page == \"new page\"').engagement_time.mean()\n",
    "print('The AVG of the engagement time of the new page is : {} minutes'.format(round(avg_eng_new, 1)))"
   ]
  },
  {
   "cell_type": "markdown",
   "id": "5fec630a",
   "metadata": {},
   "source": [
    "**The difference between the AVGs of the old & new pages**"
   ]
  },
  {
   "cell_type": "code",
   "execution_count": 244,
   "id": "959e4bca",
   "metadata": {},
   "outputs": [
    {
     "name": "stdout",
     "output_type": "stream",
     "text": [
      "The difference between the AVGs of the old & new pages is: -1.0 minutes\n"
     ]
    }
   ],
   "source": [
    "diff_eng = avg_eng_new - avg_eng_old\n",
    "print('The difference between the AVGs of the old & new pages is: {} minutes'.format(round(diff_eng, 1)))"
   ]
  },
  {
   "cell_type": "markdown",
   "id": "a41ac46f",
   "metadata": {},
   "source": [
    "At the level of significance (0.05), Do we have significant evidence to say there's a difference in the averge engagement time of the two page ?\n",
    "\n",
    "**Null Hypothesis** : AVG Engagement Time *(new)* - AVG Engagement Time *(old)* =< 0\n",
    "\n",
    "**Alternative Hypothesis** : AVG Engagement Time *(new)* - AVG Engagement Time *(old)* > 0"
   ]
  },
  {
   "cell_type": "code",
   "execution_count": 245,
   "id": "f8af2fcb",
   "metadata": {},
   "outputs": [
    {
     "data": {
      "text/plain": [
       "10000"
      ]
     },
     "execution_count": 245,
     "metadata": {},
     "output_type": "execute_result"
    }
   ],
   "source": [
    "diffs_eng = []\n",
    "\n",
    "for diff in range(10000):\n",
    "    b_samp = df_engmnt.sample(df_engmnt.shape[0], replace=True)\n",
    "    avg_eng_old = b_samp.query('pdp_page == \"old page\"').engagement_time.mean()\n",
    "    avg_eng_new = b_samp.query('pdp_page == \"new page\"').engagement_time.mean()\n",
    "    diff_eng = avg_eng_new - avg_eng_old\n",
    "    diffs_eng.append(diff_eng)\n",
    "len(diffs_eng)"
   ]
  },
  {
   "cell_type": "code",
   "execution_count": 246,
   "id": "9142cf94",
   "metadata": {},
   "outputs": [
    {
     "data": {
      "image/png": "[encoded data removed]",
      "text/plain": [
       "<Figure size 432x432 with 1 Axes>"
      ]
     },
     "metadata": {},
     "output_type": "display_data"
    }
   ],
   "source": [
    "plt.figure(figsize=(6,6))\n",
    "plt.hist(diffs_eng, alpha = 0.5);"
   ]
  },
  {
   "cell_type": "code",
   "execution_count": 247,
   "id": "620674c7",
   "metadata": {},
   "outputs": [],
   "source": [
    "diff_eng_arr = np.array(diffs_aov)\n",
    "null_eng_vals = np.random.normal(0, diff_eng_arr.std(), diff_eng_arr.size)"
   ]
  },
  {
   "cell_type": "code",
   "execution_count": 248,
   "id": "49e52d74",
   "metadata": {},
   "outputs": [
    {
     "data": {
      "text/plain": [
       "<matplotlib.lines.Line2D at 0x1b3fa23a490>"
      ]
     },
     "execution_count": 248,
     "metadata": {},
     "output_type": "execute_result"
    },
    {
     "data": {
      "image/png": "[encoded data removed]",
      "text/plain": [
       "<Figure size 432x432 with 1 Axes>"
      ]
     },
     "metadata": {},
     "output_type": "display_data"
    }
   ],
   "source": [
    "plt.figure(figsize=(6,6))\n",
    "plt.hist(null_eng_vals, alpha = 0.5)\n",
    "plt.axvline(x=diff_eng, color='#191970')"
   ]
  },
  {
   "cell_type": "code",
   "execution_count": 249,
   "id": "6a4d01a6",
   "metadata": {},
   "outputs": [
    {
     "data": {
      "text/plain": [
       "0.5349"
      ]
     },
     "execution_count": 249,
     "metadata": {},
     "output_type": "execute_result"
    }
   ],
   "source": [
    "p_val = (null_eng_vals > diff_eng).mean()\n",
    "p_val"
   ]
  },
  {
   "cell_type": "markdown",
   "id": "2ad3a60c",
   "metadata": {},
   "source": [
    "### **Conclusion**\n",
    "\n",
    "-  Since the p-value of **0.5349** is more than the significant level (0.05), we failed to reject the null hypothesis. Therefore there's no statistical evidence to support the alternative hypothesis.\n",
    "\n",
    "\n",
    "**Is this difference practically significant?**\n",
    "\n",
    "- The engagement time of the product description page in the treatment declined by 1 minutes. To ensure the validity of this result , we should check the segments of the new/existing users because in some cases what lead this is what called **change aversion** is when an affectionate users engage less with the experiment , as they were used to the previous way of doing things and don’t like that their workflows got disrupted. Overtime, they will likely get used to the new design and re-engage with the brand again as usual."
   ]
  },
  {
   "cell_type": "markdown",
   "id": "73b3e219",
   "metadata": {},
   "source": [
    "### **Metric 2 : CTR Of The Purchase Btn**"
   ]
  },
  {
   "cell_type": "code",
   "execution_count": 89,
   "id": "a6bb0755",
   "metadata": {},
   "outputs": [
    {
     "data": {
      "text/html": [
       "<div>\n",
       "<style scoped>\n",
       "    .dataframe tbody tr th:only-of-type {\n",
       "        vertical-align: middle;\n",
       "    }\n",
       "\n",
       "    .dataframe tbody tr th {\n",
       "        vertical-align: top;\n",
       "    }\n",
       "\n",
       "    .dataframe thead th {\n",
       "        text-align: right;\n",
       "    }\n",
       "</style>\n",
       "<table border=\"1\" class=\"dataframe\">\n",
       "  <thead>\n",
       "    <tr style=\"text-align: right;\">\n",
       "      <th></th>\n",
       "      <th>id</th>\n",
       "      <th>group</th>\n",
       "      <th>pdp_page</th>\n",
       "      <th>btn</th>\n",
       "      <th>actions</th>\n",
       "    </tr>\n",
       "  </thead>\n",
       "  <tbody>\n",
       "    <tr>\n",
       "      <th>0</th>\n",
       "      <td>677618</td>\n",
       "      <td>treatment</td>\n",
       "      <td>new page</td>\n",
       "      <td>order btn</td>\n",
       "      <td>click</td>\n",
       "    </tr>\n",
       "    <tr>\n",
       "      <th>1</th>\n",
       "      <td>17572</td>\n",
       "      <td>control</td>\n",
       "      <td>old page</td>\n",
       "      <td>buy btn</td>\n",
       "      <td>view</td>\n",
       "    </tr>\n",
       "  </tbody>\n",
       "</table>\n",
       "</div>"
      ],
      "text/plain": [
       "       id      group  pdp_page        btn actions\n",
       "0  677618  treatment  new page  order btn   click\n",
       "1   17572    control  old page    buy btn    view"
      ]
     },
     "execution_count": 89,
     "metadata": {},
     "output_type": "execute_result"
    }
   ],
   "source": [
    "pdp_acts = pd.read_csv('pdp_actions.csv')\n",
    "pdp_acts.head(2)"
   ]
  },
  {
   "cell_type": "code",
   "execution_count": 91,
   "id": "f43907ed",
   "metadata": {},
   "outputs": [
    {
     "data": {
      "text/plain": [
       "control      2987\n",
       "treatment    2322\n",
       "Name: group, dtype: int64"
      ]
     },
     "execution_count": 91,
     "metadata": {},
     "output_type": "execute_result"
    }
   ],
   "source": [
    "pdp_acts['group'].value_counts()"
   ]
  },
  {
   "cell_type": "code",
   "execution_count": 92,
   "id": "cc4ec09f",
   "metadata": {},
   "outputs": [
    {
     "data": {
      "text/plain": [
       "control      0.562629\n",
       "treatment    0.437371\n",
       "Name: group, dtype: float64"
      ]
     },
     "execution_count": 92,
     "metadata": {},
     "output_type": "execute_result"
    }
   ],
   "source": [
    "pdp_acts['group'].value_counts(normalize=True)"
   ]
  },
  {
   "cell_type": "code",
   "execution_count": 93,
   "id": "3b2ef4ee",
   "metadata": {},
   "outputs": [
    {
     "data": {
      "text/plain": [
       "group      actions\n",
       "control    view       2847\n",
       "           click       140\n",
       "treatment  view       2219\n",
       "           click       103\n",
       "Name: actions, dtype: int64"
      ]
     },
     "execution_count": 93,
     "metadata": {},
     "output_type": "execute_result"
    }
   ],
   "source": [
    "group_cta = pdp_acts.groupby('group')\n",
    "group_cta['actions'].value_counts()"
   ]
  },
  {
   "cell_type": "code",
   "execution_count": 94,
   "id": "22d28ec6",
   "metadata": {},
   "outputs": [
    {
     "data": {
      "text/plain": [
       "group      actions\n",
       "control    view       0.953130\n",
       "           click      0.046870\n",
       "treatment  view       0.955642\n",
       "           click      0.044358\n",
       "Name: actions, dtype: float64"
      ]
     },
     "execution_count": 94,
     "metadata": {},
     "output_type": "execute_result"
    }
   ],
   "source": [
    "group_cta['actions'].value_counts(normalize=True)"
   ]
  },
  {
   "cell_type": "code",
   "execution_count": 90,
   "id": "af9b6a2f",
   "metadata": {},
   "outputs": [
    {
     "data": {
      "text/plain": [
       "<AxesSubplot:xlabel='group', ylabel='count'>"
      ]
     },
     "execution_count": 90,
     "metadata": {},
     "output_type": "execute_result"
    },
    {
     "data": {
      "image/png": "[encoded data removed]",
      "text/plain": [
       "<Figure size 576x432 with 1 Axes>"
      ]
     },
     "metadata": {},
     "output_type": "display_data"
    }
   ],
   "source": [
    "fig= plt.figure(figsize = (8, 6))\n",
    "\n",
    "sns.countplot(x = 'group', data = pdp_acts, order = pdp_acts['group'].value_counts().index, hue='actions')"
   ]
  },
  {
   "cell_type": "markdown",
   "id": "e0788525",
   "metadata": {},
   "source": [
    "**Insights**\n",
    "\n",
    "- The users in the control group are **2987** and in the treatment is **2322**.\n",
    "- There is more traffic in the control group than the treatment group, about **13%** difference.\n",
    "- Generally , the views are more than the clicks in both groups."
   ]
  },
  {
   "cell_type": "markdown",
   "id": "cf085473",
   "metadata": {},
   "source": [
    "**Click-Through-Rate (CTR) of the CTA (buy btn)**"
   ]
  },
  {
   "cell_type": "code",
   "execution_count": 237,
   "id": "3d555663",
   "metadata": {},
   "outputs": [
    {
     "name": "stdout",
     "output_type": "stream",
     "text": [
      "The CTR of the btn (buy btn) is: 0.049\n"
     ]
    }
   ],
   "source": [
    "click_buy = pdp_acts.query('btn == \"buy btn\" & actions == \"click\"').id.nunique()\n",
    "view_buy = pdp_acts.query('btn == \"buy btn\" & actions == \"view\"').id.nunique()\n",
    "conv_rate_pdp_buy = CTR_func(click_buy, view_buy)\n",
    "print('The CTR of the btn (buy btn) is: {}'.format(round(conv_rate_pdp_buy , 3)))"
   ]
  },
  {
   "cell_type": "markdown",
   "id": "05f546fa",
   "metadata": {},
   "source": [
    "**Click-Through-Rate (CTR) of the CTA (order btn)**"
   ]
  },
  {
   "cell_type": "code",
   "execution_count": 238,
   "id": "b6f0bd6d",
   "metadata": {},
   "outputs": [
    {
     "name": "stdout",
     "output_type": "stream",
     "text": [
      "The CTR of the btn (order btn) is: 0.046 \n"
     ]
    }
   ],
   "source": [
    "click_ord = pdp_acts.query('btn == \"order btn\" & actions == \"click\"').id.nunique()\n",
    "view_ord = pdp_acts.query('btn == \"order btn\" & actions == \"view\"').id.nunique()\n",
    "conv_rate_pdp_ord = CTR_func(click_ord, view_ord)\n",
    "print('The CTR of the btn (order btn) is: {} '.format(round(conv_rate_pdp_ord , 3)))"
   ]
  },
  {
   "cell_type": "markdown",
   "id": "0bdf3375",
   "metadata": {},
   "source": [
    "**The difference between the buy btn & order btn**"
   ]
  },
  {
   "cell_type": "code",
   "execution_count": 239,
   "id": "0056ef06",
   "metadata": {},
   "outputs": [
    {
     "name": "stdout",
     "output_type": "stream",
     "text": [
      "The difference between the buy btn and the order btn is: -0.003\n"
     ]
    }
   ],
   "source": [
    "diff_cta = conv_rate_pdp_ord - conv_rate_pdp_buy\n",
    "print('The difference between the buy btn and the order btn is: {}'.format(round(diff_cta , 3)))"
   ]
  },
  {
   "cell_type": "markdown",
   "id": "80b4444f",
   "metadata": {},
   "source": [
    "**Insights**\n",
    "\n",
    "- The click through rate of the control group is **49%**\n",
    "- The click through rate of the treatment group is **46%**.\n",
    "- The difference between the click through rates for both groups is about **- 3%**."
   ]
  },
  {
   "cell_type": "markdown",
   "id": "aae377f9",
   "metadata": {},
   "source": [
    "At the level of significance (0.05), Do we have significant evidence to say there's a difference in the CTRs of the buy btn and order btn?\n",
    "\n",
    "**Null Hypothesis** : CTR *(order btn)* - CTR *(buy btn)* =< 0\n",
    "\n",
    "**Alternative Hypothesis** : CTR *(order btn)* - CTR *(buy btn)* > 0"
   ]
  },
  {
   "cell_type": "code",
   "execution_count": 240,
   "id": "d7287eef",
   "metadata": {},
   "outputs": [
    {
     "data": {
      "text/plain": [
       "10000"
      ]
     },
     "execution_count": 240,
     "metadata": {},
     "output_type": "execute_result"
    }
   ],
   "source": [
    "diffs_cta = []\n",
    "\n",
    "for diff in range(10000):\n",
    "    b_samp = pdp_acts.sample(pdp_acts.shape[0], replace=True)\n",
    "    click_buy = b_samp.query('btn == \"buy btn\" & actions == \"click\"').id.nunique()\n",
    "    view_buy = b_samp.query('btn == \"buy btn\" & actions == \"view\"').id.nunique()\n",
    "    click_ord = b_samp.query('btn == \"order btn\" & actions == \"click\"').id.nunique()\n",
    "    view_ord = b_samp.query('btn == \"order btn\" & actions == \"view\"').id.nunique()\n",
    "    \n",
    "    conv_rate_pdp_buy = CTR_func(click_buy, view_buy)\n",
    "    conv_rate_pdp_ord = CTR_func(click_ord, view_ord)\n",
    "    \n",
    "    diffs_cta.append(conv_rate_pdp_ord - conv_rate_pdp_buy)\n",
    "len(diffs_cta)"
   ]
  },
  {
   "cell_type": "code",
   "execution_count": 100,
   "id": "26ae4846",
   "metadata": {},
   "outputs": [
    {
     "data": {
      "image/png": "[encoded data removed]",
      "text/plain": [
       "<Figure size 432x432 with 1 Axes>"
      ]
     },
     "metadata": {},
     "output_type": "display_data"
    }
   ],
   "source": [
    "plt.figure(figsize=(6,6))\n",
    "plt.hist(diffs_cta, alpha = 0.5);"
   ]
  },
  {
   "cell_type": "code",
   "execution_count": 101,
   "id": "bb3a9cb6",
   "metadata": {},
   "outputs": [],
   "source": [
    "diff_cta_arr = np.array(diffs_cta)\n",
    "null_cta_vals = np.random.normal(0, diff_cta_arr.std(), diff_cta_arr.size)"
   ]
  },
  {
   "cell_type": "code",
   "execution_count": 102,
   "id": "c995a71b",
   "metadata": {},
   "outputs": [
    {
     "data": {
      "text/plain": [
       "<matplotlib.lines.Line2D at 0x1b3f8a73cd0>"
      ]
     },
     "execution_count": 102,
     "metadata": {},
     "output_type": "execute_result"
    },
    {
     "data": {
      "image/png": "[encoded data removed]",
      "text/plain": [
       "<Figure size 432x432 with 1 Axes>"
      ]
     },
     "metadata": {},
     "output_type": "display_data"
    }
   ],
   "source": [
    "plt.figure(figsize=(6,6))\n",
    "plt.hist(null_cta_vals, alpha = 0.5)\n",
    "plt.axvline(x=diff_cta, color='#191970')"
   ]
  },
  {
   "cell_type": "code",
   "execution_count": 103,
   "id": "43597071",
   "metadata": {},
   "outputs": [
    {
     "data": {
      "text/plain": [
       "0.7113"
      ]
     },
     "execution_count": 103,
     "metadata": {},
     "output_type": "execute_result"
    }
   ],
   "source": [
    "p_val = (null_cta_vals > diff_cta).mean()\n",
    "p_val"
   ]
  },
  {
   "cell_type": "markdown",
   "id": "ce49b724",
   "metadata": {},
   "source": [
    "### **Conclusion**\n",
    "\n",
    "-  Since the p-value of **0.7113** is more than the level of significance (0.05), we can't reject the null hypothesis. Therefore , we don't have enough statistical evidence to support our alternative hypothesis.\n",
    "\n",
    "\n",
    "**Is this difference practically significant?**\n",
    "\n",
    "- As we noticed that the pdp engagement time metric has decreased in the treatment , also the CTR of the purchase button has declined compared to the old product description page."
   ]
  }
 ],
 "metadata": {
  "kernelspec": {
   "display_name": "Python 3 (ipykernel)",
   "language": "python",
   "name": "python3"
  },
  "language_info": {
   "codemirror_mode": {
    "name": "ipython",
    "version": 3
   },
   "file_extension": ".py",
   "mimetype": "text/x-python",
   "name": "python",
   "nbconvert_exporter": "python",
   "pygments_lexer": "ipython3",
   "version": "3.9.12"
  }
 },
 "nbformat": 4,
 "nbformat_minor": 5
}
