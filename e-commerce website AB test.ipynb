{
 "cells": [
  {
   "cell_type": "markdown",
   "id": "8f466ed6",
   "metadata": {},
   "source": [
    "# Context\n",
    "\n",
    "*An e-commerce company is currently redesigning their entire website, but they know they can’t just launch straight into a new design, so start with testing the placement of icons in the new website’s header By putting the icons above the search bar, instead of below, and so on.*\n",
    "\n",
    "\n",
    "The steps they take and the metrics that interested for them are :\n",
    "\n",
    "\n",
    "1. Homepage header icons : **CTR** Click Through Rate, **Session Time**.\n",
    "2. Payment options : **AOV** Average Order Value, **Conversion Rate**.\n",
    "3. Product Description Pages (PDPs) :**Engagement time**, **CTR** Call To Action(CTA) by changing the buy button into order button.\n",
    "4. Email Sign-up Banner : **Conversion Rate** by changing the color of an email sign-up banner."
   ]
  },
  {
   "cell_type": "markdown",
   "id": "719b032a",
   "metadata": {},
   "source": [
    "**NOTICE :**\n",
    "    \n",
    "In this case, we should only consider good CTR, or conversion Rate is above 15%."
   ]
  },
  {
   "cell_type": "code",
   "execution_count": 2,
   "id": "39f1bcbb",
   "metadata": {},
   "outputs": [],
   "source": [
    "import pandas as pd\n",
    "import numpy as np\n",
    "import matplotlib.pyplot as plt\n",
    "\n",
    "%matplotlib inline\n",
    "import seaborn as sns\n",
    "\n",
    "import random\n",
    "plt.style.use('ggplot')"
   ]
  },
  {
   "cell_type": "markdown",
   "id": "cac689be",
   "metadata": {},
   "source": [
    "### # Homepage - CTR"
   ]
  },
  {
   "cell_type": "markdown",
   "id": "67a51a04",
   "metadata": {},
   "source": [
    "- The first change to the homepage new design that the company did is changing the place of the icons in the header under the search bar to the upper side, and they ran the experiment for 2 weeks.."
   ]
  },
  {
   "cell_type": "code",
   "execution_count": 3,
   "id": "bf217301",
   "metadata": {},
   "outputs": [
    {
     "data": {
      "text/html": [
       "<div>\n",
       "<style scoped>\n",
       "    .dataframe tbody tr th:only-of-type {\n",
       "        vertical-align: middle;\n",
       "    }\n",
       "\n",
       "    .dataframe tbody tr th {\n",
       "        vertical-align: top;\n",
       "    }\n",
       "\n",
       "    .dataframe thead th {\n",
       "        text-align: right;\n",
       "    }\n",
       "</style>\n",
       "<table border=\"1\" class=\"dataframe\">\n",
       "  <thead>\n",
       "    <tr style=\"text-align: right;\">\n",
       "      <th></th>\n",
       "      <th>id</th>\n",
       "      <th>group</th>\n",
       "      <th>page</th>\n",
       "      <th>actions</th>\n",
       "    </tr>\n",
       "  </thead>\n",
       "  <tbody>\n",
       "    <tr>\n",
       "      <th>0</th>\n",
       "      <td>14893</td>\n",
       "      <td>control</td>\n",
       "      <td>old page</td>\n",
       "      <td>view</td>\n",
       "    </tr>\n",
       "    <tr>\n",
       "      <th>1</th>\n",
       "      <td>13694</td>\n",
       "      <td>control</td>\n",
       "      <td>old page</td>\n",
       "      <td>view</td>\n",
       "    </tr>\n",
       "    <tr>\n",
       "      <th>2</th>\n",
       "      <td>17431</td>\n",
       "      <td>treatment</td>\n",
       "      <td>new page</td>\n",
       "      <td>click</td>\n",
       "    </tr>\n",
       "    <tr>\n",
       "      <th>3</th>\n",
       "      <td>18327</td>\n",
       "      <td>treatment</td>\n",
       "      <td>new page</td>\n",
       "      <td>view</td>\n",
       "    </tr>\n",
       "    <tr>\n",
       "      <th>4</th>\n",
       "      <td>14940</td>\n",
       "      <td>control</td>\n",
       "      <td>old page</td>\n",
       "      <td>view</td>\n",
       "    </tr>\n",
       "    <tr>\n",
       "      <th>5</th>\n",
       "      <td>17167</td>\n",
       "      <td>treatment</td>\n",
       "      <td>new page</td>\n",
       "      <td>view</td>\n",
       "    </tr>\n",
       "  </tbody>\n",
       "</table>\n",
       "</div>"
      ],
      "text/plain": [
       "      id      group      page actions\n",
       "0  14893    control  old page    view\n",
       "1  13694    control  old page    view\n",
       "2  17431  treatment  new page   click\n",
       "3  18327  treatment  new page    view\n",
       "4  14940    control  old page    view\n",
       "5  17167  treatment  new page    view"
      ]
     },
     "execution_count": 3,
     "metadata": {},
     "output_type": "execute_result"
    }
   ],
   "source": [
    "df_homepage = pd.read_csv('ecommerce_homepage_actions.csv')\n",
    "df_homepage.head(6)"
   ]
  },
  {
   "cell_type": "markdown",
   "id": "b1d8b166",
   "metadata": {},
   "source": [
    "### **Click Through Rate (CTR) Function**"
   ]
  },
  {
   "cell_type": "code",
   "execution_count": 4,
   "id": "bd27c89a",
   "metadata": {},
   "outputs": [],
   "source": [
    "def CTR_func(clicks, views):\n",
    "    ctr = clicks / views\n",
    "    return round(ctr, 2)*100"
   ]
  },
  {
   "cell_type": "markdown",
   "id": "ba1f438c",
   "metadata": {},
   "source": [
    "**Click Through Rate (CRT) Of The Old Page**"
   ]
  },
  {
   "cell_type": "code",
   "execution_count": 5,
   "id": "2e3accb3",
   "metadata": {},
   "outputs": [
    {
     "name": "stdout",
     "output_type": "stream",
     "text": [
      "The CTR of the old page is: 57.0 %\n"
     ]
    }
   ],
   "source": [
    "click_old = df_homepage.query('page == \"old page\" & actions == \"click\"').id.nunique()\n",
    "view_old = df_homepage.query('page == \"old page\" & actions == \"view\"').id.nunique()\n",
    "conv_rate_homepage_old = CTR_func(click_old, view_old)\n",
    "print('The CTR of the old page is: {} %'.format(round(conv_rate_homepage_old, 1)))"
   ]
  },
  {
   "cell_type": "markdown",
   "id": "20867f42",
   "metadata": {},
   "source": [
    "**Click Through Rate (CRT) Of The New Page**"
   ]
  },
  {
   "cell_type": "code",
   "execution_count": 6,
   "id": "7d261a72",
   "metadata": {},
   "outputs": [
    {
     "name": "stdout",
     "output_type": "stream",
     "text": [
      "The CTR of the new page is: 64.0 %\n"
     ]
    }
   ],
   "source": [
    "click_new = df_homepage.query('page == \"new page\" & actions == \"click\"').id.nunique()\n",
    "view_new = df_homepage.query('page == \"new page\" & actions == \"view\"').id.nunique()\n",
    "conv_rate_homepage_new = CTR_func(click_new, view_new)\n",
    "print('The CTR of the new page is: {} %'.format(conv_rate_homepage_new))"
   ]
  },
  {
   "cell_type": "markdown",
   "id": "5b0e0719",
   "metadata": {},
   "source": [
    "**The Difference Between The Old & New Pages**"
   ]
  },
  {
   "cell_type": "code",
   "execution_count": 7,
   "id": "15e01071",
   "metadata": {},
   "outputs": [
    {
     "name": "stdout",
     "output_type": "stream",
     "text": [
      "The difference between the old and the new page is : 7.0 %\n"
     ]
    }
   ],
   "source": [
    "diff_homepage = conv_rate_homepage_new - conv_rate_homepage_old\n",
    "print('The difference between the old and the new page is : {} %'.format(round(diff_homepage, 1)))"
   ]
  },
  {
   "cell_type": "markdown",
   "id": "9c2c3ac4",
   "metadata": {},
   "source": [
    "At the level of significance (0.05), Do we have significant evidence to say there's a difference in the CTR rates of the two page ?\n",
    "\n",
    "**Null Hypothesis** : CTR *new* - CTR *old* =< 0\n",
    "\n",
    "**Alternative Hypothesis** : CTR *new* - CTR *old* > 0"
   ]
  },
  {
   "cell_type": "code",
   "execution_count": 8,
   "id": "6ede71a0",
   "metadata": {},
   "outputs": [
    {
     "data": {
      "text/plain": [
       "10000"
      ]
     },
     "execution_count": 8,
     "metadata": {},
     "output_type": "execute_result"
    }
   ],
   "source": [
    "diffs_list = []\n",
    "\n",
    "for diff in range(10000):\n",
    "    b_samp = df_homepage.sample(df_homepage.shape[0], replace=True)\n",
    "    click_old = b_samp.query('page == \"old page\" & actions == \"click\"').id.nunique()\n",
    "    view_old = b_samp.query('page == \"old page\" & actions == \"view\"').id.nunique()\n",
    "    click_new = b_samp.query('page == \"new page\" & actions == \"click\"').id.nunique()\n",
    "    view_new = b_samp.query('page == \"new page\" & actions == \"view\"').id.nunique()\n",
    "    conv_rate_homepage_old = CTR_func(click_old, view_old)\n",
    "    conv_rate_homepage_new = CTR_func(click_new, view_new)\n",
    "    \n",
    "    diffs_list.append(conv_rate_homepage_new - conv_rate_homepage_old)\n",
    "len(diffs_list)"
   ]
  },
  {
   "cell_type": "code",
   "execution_count": 10,
   "id": "1ef8fbef",
   "metadata": {},
   "outputs": [
    {
     "data": {
      "image/png": "[encoded data removed]",
      "text/plain": [
       "<Figure size 432x432 with 1 Axes>"
      ]
     },
     "metadata": {},
     "output_type": "display_data"
    }
   ],
   "source": [
    "plt.figure(figsize=(6,6))\n",
    "plt.hist(diffs_list, alpha = 0.5);"
   ]
  },
  {
   "cell_type": "code",
   "execution_count": 11,
   "id": "0a419926",
   "metadata": {},
   "outputs": [],
   "source": [
    "diff_arr = np.array(diffs_list)\n",
    "null_vals = np.random.normal(0, diff_arr.std(), diff_arr.size)"
   ]
  },
  {
   "cell_type": "code",
   "execution_count": 12,
   "id": "f2549a38",
   "metadata": {},
   "outputs": [
    {
     "data": {
      "text/plain": [
       "<matplotlib.lines.Line2D at 0x1656b940700>"
      ]
     },
     "execution_count": 12,
     "metadata": {},
     "output_type": "execute_result"
    },
    {
     "data": {
      "image/png": "[encoded data removed]",
      "text/plain": [
       "<Figure size 432x432 with 1 Axes>"
      ]
     },
     "metadata": {},
     "output_type": "display_data"
    }
   ],
   "source": [
    "plt.figure(figsize=(6,6))\n",
    "plt.hist(null_vals, alpha = 0.5)\n",
    "plt.axvline(x=diff_homepage, color='#191970')"
   ]
  },
  {
   "cell_type": "code",
   "execution_count": 13,
   "id": "87b52c24",
   "metadata": {},
   "outputs": [
    {
     "data": {
      "text/plain": [
       "0.0"
      ]
     },
     "execution_count": 13,
     "metadata": {},
     "output_type": "execute_result"
    }
   ],
   "source": [
    "p_val = (null_vals > diff_homepage).mean()\n",
    "p_val"
   ]
  },
  {
   "cell_type": "markdown",
   "id": "2f560097",
   "metadata": {},
   "source": [
    "### **Conclusion**\n",
    "\n",
    "- P-value of **0.0** indicates that it's highly significant, and it suggests there was absolutely no chance of getting this result if the null hypothesis was true, or we can say it's very unlikely that occurred by chance alone. Therefore , we reject our null in favor of an alternative hypothesis..\n",
    "\n",
    "- With **95% confidence**, there's enough statistical evidence to say that there's a difference between the CTRs of the homepage between new and old pages..\n",
    "\n",
    "**Is this difference practically significant?**\n",
    "\n",
    "- In practical perspective, **7%** uplift in the click-through-rate may not be a significant difference, but for certain we can say the new design helped to improve the CTR more than the old design.."
   ]
  },
  {
   "cell_type": "markdown",
   "id": "c6e5839c",
   "metadata": {},
   "source": [
    "### # Homepage - Session Time"
   ]
  },
  {
   "cell_type": "markdown",
   "id": "28aca75d",
   "metadata": {},
   "source": [
    "- After the increment in the CTR, the company plans to do more adjustments to the homepage since it's the landing page and the most important page it represents the image of the brand that will make users engage with their products and content. Therefore, they did the adjustments like : changing icons placements, adding symbols, changing color and font size, ... , etc. Now they are interested to see if these small adjustments helped to make users more engaged with the website. And they run the experiment for 2 weeks.."
   ]
  },
  {
   "cell_type": "code",
   "execution_count": 14,
   "id": "07eb5ea5",
   "metadata": {},
   "outputs": [
    {
     "data": {
      "text/html": [
       "<div>\n",
       "<style scoped>\n",
       "    .dataframe tbody tr th:only-of-type {\n",
       "        vertical-align: middle;\n",
       "    }\n",
       "\n",
       "    .dataframe tbody tr th {\n",
       "        vertical-align: top;\n",
       "    }\n",
       "\n",
       "    .dataframe thead th {\n",
       "        text-align: right;\n",
       "    }\n",
       "</style>\n",
       "<table border=\"1\" class=\"dataframe\">\n",
       "  <thead>\n",
       "    <tr style=\"text-align: right;\">\n",
       "      <th></th>\n",
       "      <th>id</th>\n",
       "      <th>group</th>\n",
       "      <th>page</th>\n",
       "      <th>session_time</th>\n",
       "    </tr>\n",
       "  </thead>\n",
       "  <tbody>\n",
       "    <tr>\n",
       "      <th>0</th>\n",
       "      <td>13222</td>\n",
       "      <td>control</td>\n",
       "      <td>old page</td>\n",
       "      <td>3.4</td>\n",
       "    </tr>\n",
       "    <tr>\n",
       "      <th>1</th>\n",
       "      <td>16810</td>\n",
       "      <td>treatment</td>\n",
       "      <td>new page</td>\n",
       "      <td>5.2</td>\n",
       "    </tr>\n",
       "    <tr>\n",
       "      <th>2</th>\n",
       "      <td>15372</td>\n",
       "      <td>control</td>\n",
       "      <td>old page</td>\n",
       "      <td>3.9</td>\n",
       "    </tr>\n",
       "    <tr>\n",
       "      <th>3</th>\n",
       "      <td>15342</td>\n",
       "      <td>control</td>\n",
       "      <td>old page</td>\n",
       "      <td>1.7</td>\n",
       "    </tr>\n",
       "    <tr>\n",
       "      <th>4</th>\n",
       "      <td>13358</td>\n",
       "      <td>control</td>\n",
       "      <td>old page</td>\n",
       "      <td>3.0</td>\n",
       "    </tr>\n",
       "    <tr>\n",
       "      <th>5</th>\n",
       "      <td>18248</td>\n",
       "      <td>treatment</td>\n",
       "      <td>new page</td>\n",
       "      <td>4.3</td>\n",
       "    </tr>\n",
       "    <tr>\n",
       "      <th>6</th>\n",
       "      <td>14724</td>\n",
       "      <td>control</td>\n",
       "      <td>old page</td>\n",
       "      <td>4.8</td>\n",
       "    </tr>\n",
       "  </tbody>\n",
       "</table>\n",
       "</div>"
      ],
      "text/plain": [
       "      id      group      page  session_time\n",
       "0  13222    control  old page           3.4\n",
       "1  16810  treatment  new page           5.2\n",
       "2  15372    control  old page           3.9\n",
       "3  15342    control  old page           1.7\n",
       "4  13358    control  old page           3.0\n",
       "5  18248  treatment  new page           4.3\n",
       "6  14724    control  old page           4.8"
      ]
     },
     "execution_count": 14,
     "metadata": {},
     "output_type": "execute_result"
    }
   ],
   "source": [
    "df_sessions = pd.read_csv('homepage_sessions.csv')\n",
    "df_sessions.head(7)"
   ]
  },
  {
   "cell_type": "markdown",
   "id": "6d27fbcb",
   "metadata": {},
   "source": [
    "**The AVG OF The Session Time Of The Old Page**"
   ]
  },
  {
   "cell_type": "code",
   "execution_count": 15,
   "id": "d21c4f1a",
   "metadata": {},
   "outputs": [
    {
     "name": "stdout",
     "output_type": "stream",
     "text": [
      "The AVG of the session time of the old page is : 3.0 minutes\n"
     ]
    }
   ],
   "source": [
    "avg_session_old = df_sessions.query('page == \"old page\"').session_time.mean()\n",
    "print('The AVG of the session time of the old page is : {} minutes'.format(round(avg_session_old, 1)))"
   ]
  },
  {
   "cell_type": "markdown",
   "id": "6971488d",
   "metadata": {},
   "source": [
    "**The AVG OF The Session Time Of The New Page**"
   ]
  },
  {
   "cell_type": "code",
   "execution_count": 16,
   "id": "f31cb2ad",
   "metadata": {},
   "outputs": [
    {
     "name": "stdout",
     "output_type": "stream",
     "text": [
      "The AVG of the session time of the new page is : 5.0 minutes\n"
     ]
    }
   ],
   "source": [
    "avg_session_new = df_sessions.query('page == \"new page\"').session_time.mean()\n",
    "print('The AVG of the session time of the new page is : {} minutes'.format(round(avg_session_new, 1)))"
   ]
  },
  {
   "cell_type": "markdown",
   "id": "085d26b3",
   "metadata": {},
   "source": [
    "**The Difference Between The AVGs Of The Old & New Pages**"
   ]
  },
  {
   "cell_type": "code",
   "execution_count": 17,
   "id": "274cf2d0",
   "metadata": {},
   "outputs": [
    {
     "name": "stdout",
     "output_type": "stream",
     "text": [
      "The difference between the AVGs of the old & new pages is: 2.0 minutes\n"
     ]
    }
   ],
   "source": [
    "diff_sess = avg_session_new - avg_session_old\n",
    "print('The difference between the AVGs of the old & new pages is: {} minutes'.format(round(diff_sess, 1)))"
   ]
  },
  {
   "cell_type": "markdown",
   "id": "03b34f92",
   "metadata": {},
   "source": [
    "At the level of significance (0.05), Do we have significant evidence to say there's a difference in the averge session time of the two page ?\n",
    "\n",
    "**Null Hypothesis** : AVG Session Time *(new)* - AVG Session Time *(old)* =< 0\n",
    "\n",
    "**Alternative Hypothesis** : AVG Session Time *(new)* - AVG Session Time *(old)* > 0"
   ]
  },
  {
   "cell_type": "code",
   "execution_count": 18,
   "id": "770201a4",
   "metadata": {},
   "outputs": [
    {
     "data": {
      "text/plain": [
       "10000"
      ]
     },
     "execution_count": 18,
     "metadata": {},
     "output_type": "execute_result"
    }
   ],
   "source": [
    "diffs_sess_list = []\n",
    "\n",
    "for diff in range(10000):\n",
    "    b_samp = df_sessions.sample(df_sessions.shape[0], replace=True)\n",
    "    avg_session_old = b_samp.query('page == \"old page\"').session_time.mean()\n",
    "    avg_session_new = b_samp.query('page == \"new page\"').session_time.mean()\n",
    "    diffs_sess_list.append(avg_session_new - avg_session_old)\n",
    "len(diffs_sess_list)"
   ]
  },
  {
   "cell_type": "code",
   "execution_count": 19,
   "id": "0d066a0a",
   "metadata": {},
   "outputs": [
    {
     "data": {
      "image/png": "[encoded data removed]",
      "text/plain": [
       "<Figure size 432x432 with 1 Axes>"
      ]
     },
     "metadata": {},
     "output_type": "display_data"
    }
   ],
   "source": [
    "plt.figure(figsize=(6,6))\n",
    "plt.hist(diffs_sess_list, alpha = 0.5);"
   ]
  },
  {
   "cell_type": "code",
   "execution_count": 20,
   "id": "dd056580",
   "metadata": {},
   "outputs": [],
   "source": [
    "diff_sess_arr = np.array(diffs_sess_list)\n",
    "null_sess_vals = np.random.normal(0, diff_sess_arr.std(), diff_sess_arr.size)"
   ]
  },
  {
   "cell_type": "code",
   "execution_count": 21,
   "id": "ca46617b",
   "metadata": {},
   "outputs": [
    {
     "data": {
      "text/plain": [
       "<matplotlib.lines.Line2D at 0x1656bab2040>"
      ]
     },
     "execution_count": 21,
     "metadata": {},
     "output_type": "execute_result"
    },
    {
     "data": {
      "image/png": "[encoded data removed]",
      "text/plain": [
       "<Figure size 432x432 with 1 Axes>"
      ]
     },
     "metadata": {},
     "output_type": "display_data"
    }
   ],
   "source": [
    "plt.figure(figsize=(6,6))\n",
    "plt.hist(null_sess_vals, alpha = 0.5)\n",
    "plt.axvline(x=diff_sess, color='#191970')"
   ]
  },
  {
   "cell_type": "code",
   "execution_count": 22,
   "id": "2b909c22",
   "metadata": {},
   "outputs": [
    {
     "data": {
      "text/plain": [
       "0.0"
      ]
     },
     "execution_count": 22,
     "metadata": {},
     "output_type": "execute_result"
    }
   ],
   "source": [
    "p_val = (null_sess_vals > diff_sess).mean()\n",
    "p_val"
   ]
  },
  {
   "cell_type": "markdown",
   "id": "96a88990",
   "metadata": {},
   "source": [
    "### **Conclusion**\n",
    "\n",
    "- The p-value result **0.0** suggests we absolutely didn't get this result by chance alone. Thus , we reject our null in favor of an alternative hypothesis..\n",
    "\n",
    "- With **95% confidence**, there's statistical evidence to say that there's a difference between the AVGs of the session time between new and old pages..\n",
    "\n",
    "**Is this difference practically significant?**\n",
    "\n",
    "- Practically speaking , even if we getting a very significant test result, the new design obviously makes the visitors more engaged for more than **2 minutes** on average, so there's improvement and we can run the experiment for more time and observe how the visitors behave and interact with the new design.."
   ]
  },
  {
   "cell_type": "markdown",
   "id": "633eaa75",
   "metadata": {},
   "source": [
    "### #Payment Methods - Average Order Value (AOV)"
   ]
  },
  {
   "cell_type": "markdown",
   "id": "d0653b0d",
   "metadata": {},
   "source": [
    "- The company introduced new payment methods within the new design, and they ran the experiment for 2 weeks , observing how the customers dealt with the more of payment options.."
   ]
  },
  {
   "cell_type": "code",
   "execution_count": 23,
   "id": "a604e584",
   "metadata": {},
   "outputs": [
    {
     "data": {
      "text/html": [
       "<div>\n",
       "<style scoped>\n",
       "    .dataframe tbody tr th:only-of-type {\n",
       "        vertical-align: middle;\n",
       "    }\n",
       "\n",
       "    .dataframe tbody tr th {\n",
       "        vertical-align: top;\n",
       "    }\n",
       "\n",
       "    .dataframe thead th {\n",
       "        text-align: right;\n",
       "    }\n",
       "</style>\n",
       "<table border=\"1\" class=\"dataframe\">\n",
       "  <thead>\n",
       "    <tr style=\"text-align: right;\">\n",
       "      <th></th>\n",
       "      <th>id</th>\n",
       "      <th>group</th>\n",
       "      <th>page</th>\n",
       "      <th>payment_opt</th>\n",
       "      <th>transacions</th>\n",
       "      <th>revenue</th>\n",
       "    </tr>\n",
       "  </thead>\n",
       "  <tbody>\n",
       "    <tr>\n",
       "      <th>0</th>\n",
       "      <td>21773</td>\n",
       "      <td>treatment</td>\n",
       "      <td>new page</td>\n",
       "      <td>Postpaid Methods</td>\n",
       "      <td>6</td>\n",
       "      <td>2168.4</td>\n",
       "    </tr>\n",
       "    <tr>\n",
       "      <th>1</th>\n",
       "      <td>23838</td>\n",
       "      <td>treatment</td>\n",
       "      <td>new page</td>\n",
       "      <td>Apple Pay</td>\n",
       "      <td>5</td>\n",
       "      <td>1262.9</td>\n",
       "    </tr>\n",
       "    <tr>\n",
       "      <th>2</th>\n",
       "      <td>11869</td>\n",
       "      <td>control</td>\n",
       "      <td>old page</td>\n",
       "      <td>Cash On Delivery (COD)</td>\n",
       "      <td>3</td>\n",
       "      <td>1326.5</td>\n",
       "    </tr>\n",
       "    <tr>\n",
       "      <th>3</th>\n",
       "      <td>15811</td>\n",
       "      <td>control</td>\n",
       "      <td>old page</td>\n",
       "      <td>Credit Cards</td>\n",
       "      <td>3</td>\n",
       "      <td>1106.1</td>\n",
       "    </tr>\n",
       "    <tr>\n",
       "      <th>4</th>\n",
       "      <td>14750</td>\n",
       "      <td>control</td>\n",
       "      <td>old page</td>\n",
       "      <td>Cash On Delivery (COD)</td>\n",
       "      <td>1</td>\n",
       "      <td>200.0</td>\n",
       "    </tr>\n",
       "    <tr>\n",
       "      <th>...</th>\n",
       "      <td>...</td>\n",
       "      <td>...</td>\n",
       "      <td>...</td>\n",
       "      <td>...</td>\n",
       "      <td>...</td>\n",
       "      <td>...</td>\n",
       "    </tr>\n",
       "    <tr>\n",
       "      <th>2001</th>\n",
       "      <td>18349</td>\n",
       "      <td>treatment</td>\n",
       "      <td>new page</td>\n",
       "      <td>Postpaid Methods</td>\n",
       "      <td>6</td>\n",
       "      <td>1422.7</td>\n",
       "    </tr>\n",
       "    <tr>\n",
       "      <th>2002</th>\n",
       "      <td>15960</td>\n",
       "      <td>control</td>\n",
       "      <td>old page</td>\n",
       "      <td>Cash On Delivery (COD)</td>\n",
       "      <td>1</td>\n",
       "      <td>812.2</td>\n",
       "    </tr>\n",
       "    <tr>\n",
       "      <th>2003</th>\n",
       "      <td>22168</td>\n",
       "      <td>treatment</td>\n",
       "      <td>new page</td>\n",
       "      <td>Apple Pay</td>\n",
       "      <td>4</td>\n",
       "      <td>1689.0</td>\n",
       "    </tr>\n",
       "    <tr>\n",
       "      <th>2004</th>\n",
       "      <td>21287</td>\n",
       "      <td>treatment</td>\n",
       "      <td>new page</td>\n",
       "      <td>Apple Pay</td>\n",
       "      <td>4</td>\n",
       "      <td>3500.0</td>\n",
       "    </tr>\n",
       "    <tr>\n",
       "      <th>2005</th>\n",
       "      <td>13960</td>\n",
       "      <td>control</td>\n",
       "      <td>old page</td>\n",
       "      <td>Credit Cards</td>\n",
       "      <td>1</td>\n",
       "      <td>836.7</td>\n",
       "    </tr>\n",
       "  </tbody>\n",
       "</table>\n",
       "<p>2006 rows × 6 columns</p>\n",
       "</div>"
      ],
      "text/plain": [
       "         id      group      page             payment_opt  transacions  revenue\n",
       "0     21773  treatment  new page        Postpaid Methods            6   2168.4\n",
       "1     23838  treatment  new page               Apple Pay            5   1262.9\n",
       "2     11869    control  old page  Cash On Delivery (COD)            3   1326.5\n",
       "3     15811    control  old page            Credit Cards            3   1106.1\n",
       "4     14750    control  old page  Cash On Delivery (COD)            1    200.0\n",
       "...     ...        ...       ...                     ...          ...      ...\n",
       "2001  18349  treatment  new page        Postpaid Methods            6   1422.7\n",
       "2002  15960    control  old page  Cash On Delivery (COD)            1    812.2\n",
       "2003  22168  treatment  new page               Apple Pay            4   1689.0\n",
       "2004  21287  treatment  new page               Apple Pay            4   3500.0\n",
       "2005  13960    control  old page            Credit Cards            1    836.7\n",
       "\n",
       "[2006 rows x 6 columns]"
      ]
     },
     "execution_count": 23,
     "metadata": {},
     "output_type": "execute_result"
    }
   ],
   "source": [
    "df_paymnt = pd.read_csv('payment_opt.csv')\n",
    "df_paymnt"
   ]
  },
  {
   "cell_type": "markdown",
   "id": "3a9cb6f7",
   "metadata": {},
   "source": [
    "**The total transactions received during the experiment regardless of the old or new design**"
   ]
  },
  {
   "cell_type": "code",
   "execution_count": 24,
   "id": "ab00392e",
   "metadata": {},
   "outputs": [
    {
     "data": {
      "text/html": [
       "<div>\n",
       "<style scoped>\n",
       "    .dataframe tbody tr th:only-of-type {\n",
       "        vertical-align: middle;\n",
       "    }\n",
       "\n",
       "    .dataframe tbody tr th {\n",
       "        vertical-align: top;\n",
       "    }\n",
       "\n",
       "    .dataframe thead th {\n",
       "        text-align: right;\n",
       "    }\n",
       "</style>\n",
       "<table border=\"1\" class=\"dataframe\">\n",
       "  <thead>\n",
       "    <tr style=\"text-align: right;\">\n",
       "      <th></th>\n",
       "      <th></th>\n",
       "      <th></th>\n",
       "      <th>transacions</th>\n",
       "    </tr>\n",
       "    <tr>\n",
       "      <th>group</th>\n",
       "      <th>page</th>\n",
       "      <th>payment_opt</th>\n",
       "      <th></th>\n",
       "    </tr>\n",
       "  </thead>\n",
       "  <tbody>\n",
       "    <tr>\n",
       "      <th rowspan=\"2\" valign=\"top\">treatment</th>\n",
       "      <th rowspan=\"2\" valign=\"top\">new page</th>\n",
       "      <th>Apple Pay</th>\n",
       "      <td>2096</td>\n",
       "    </tr>\n",
       "    <tr>\n",
       "      <th>Postpaid Methods</th>\n",
       "      <td>1946</td>\n",
       "    </tr>\n",
       "    <tr>\n",
       "      <th rowspan=\"3\" valign=\"top\">control</th>\n",
       "      <th rowspan=\"3\" valign=\"top\">old page</th>\n",
       "      <th>Credit Cards</th>\n",
       "      <td>676</td>\n",
       "    </tr>\n",
       "    <tr>\n",
       "      <th>Cash On Delivery (COD)</th>\n",
       "      <td>646</td>\n",
       "    </tr>\n",
       "    <tr>\n",
       "      <th>PayPal</th>\n",
       "      <td>631</td>\n",
       "    </tr>\n",
       "    <tr>\n",
       "      <th rowspan=\"3\" valign=\"top\">treatment</th>\n",
       "      <th rowspan=\"3\" valign=\"top\">new page</th>\n",
       "      <th>Credit Cards</th>\n",
       "      <td>390</td>\n",
       "    </tr>\n",
       "    <tr>\n",
       "      <th>PayPal</th>\n",
       "      <td>387</td>\n",
       "    </tr>\n",
       "    <tr>\n",
       "      <th>Cash On Delivery (COD)</th>\n",
       "      <td>363</td>\n",
       "    </tr>\n",
       "  </tbody>\n",
       "</table>\n",
       "</div>"
      ],
      "text/plain": [
       "                                           transacions\n",
       "group     page     payment_opt                        \n",
       "treatment new page Apple Pay                      2096\n",
       "                   Postpaid Methods               1946\n",
       "control   old page Credit Cards                    676\n",
       "                   Cash On Delivery (COD)          646\n",
       "                   PayPal                          631\n",
       "treatment new page Credit Cards                    390\n",
       "                   PayPal                          387\n",
       "                   Cash On Delivery (COD)          363"
      ]
     },
     "execution_count": 24,
     "metadata": {},
     "output_type": "execute_result"
    }
   ],
   "source": [
    "trans_pivot = pd.pivot_table(df_paymnt, index=['group', 'page', 'payment_opt'], columns=None, values='transacions', aggfunc=np.sum)\n",
    "trans_pivot.sort_values(by = 'transacions', ascending=False)"
   ]
  },
  {
   "cell_type": "markdown",
   "id": "09f00d91",
   "metadata": {},
   "source": [
    "**The total revenue received during the experiment regardless of the old or new design**"
   ]
  },
  {
   "cell_type": "code",
   "execution_count": 25,
   "id": "ce6772bb",
   "metadata": {},
   "outputs": [
    {
     "data": {
      "text/html": [
       "<div>\n",
       "<style scoped>\n",
       "    .dataframe tbody tr th:only-of-type {\n",
       "        vertical-align: middle;\n",
       "    }\n",
       "\n",
       "    .dataframe tbody tr th {\n",
       "        vertical-align: top;\n",
       "    }\n",
       "\n",
       "    .dataframe thead th {\n",
       "        text-align: right;\n",
       "    }\n",
       "</style>\n",
       "<table border=\"1\" class=\"dataframe\">\n",
       "  <thead>\n",
       "    <tr style=\"text-align: right;\">\n",
       "      <th></th>\n",
       "      <th></th>\n",
       "      <th></th>\n",
       "      <th>revenue</th>\n",
       "    </tr>\n",
       "    <tr>\n",
       "      <th>group</th>\n",
       "      <th>page</th>\n",
       "      <th>payment_opt</th>\n",
       "      <th></th>\n",
       "    </tr>\n",
       "  </thead>\n",
       "  <tbody>\n",
       "    <tr>\n",
       "      <th rowspan=\"2\" valign=\"top\">treatment</th>\n",
       "      <th rowspan=\"2\" valign=\"top\">new page</th>\n",
       "      <th>Apple Pay</th>\n",
       "      <td>914877.0</td>\n",
       "    </tr>\n",
       "    <tr>\n",
       "      <th>Postpaid Methods</th>\n",
       "      <td>825948.0</td>\n",
       "    </tr>\n",
       "    <tr>\n",
       "      <th rowspan=\"3\" valign=\"top\">control</th>\n",
       "      <th rowspan=\"3\" valign=\"top\">old page</th>\n",
       "      <th>Cash On Delivery (COD)</th>\n",
       "      <td>264122.3</td>\n",
       "    </tr>\n",
       "    <tr>\n",
       "      <th>Credit Cards</th>\n",
       "      <td>262167.1</td>\n",
       "    </tr>\n",
       "    <tr>\n",
       "      <th>PayPal</th>\n",
       "      <td>242002.8</td>\n",
       "    </tr>\n",
       "    <tr>\n",
       "      <th rowspan=\"3\" valign=\"top\">treatment</th>\n",
       "      <th rowspan=\"3\" valign=\"top\">new page</th>\n",
       "      <th>PayPal</th>\n",
       "      <td>169179.0</td>\n",
       "    </tr>\n",
       "    <tr>\n",
       "      <th>Credit Cards</th>\n",
       "      <td>167374.8</td>\n",
       "    </tr>\n",
       "    <tr>\n",
       "      <th>Cash On Delivery (COD)</th>\n",
       "      <td>153192.8</td>\n",
       "    </tr>\n",
       "  </tbody>\n",
       "</table>\n",
       "</div>"
      ],
      "text/plain": [
       "                                            revenue\n",
       "group     page     payment_opt                     \n",
       "treatment new page Apple Pay               914877.0\n",
       "                   Postpaid Methods        825948.0\n",
       "control   old page Cash On Delivery (COD)  264122.3\n",
       "                   Credit Cards            262167.1\n",
       "                   PayPal                  242002.8\n",
       "treatment new page PayPal                  169179.0\n",
       "                   Credit Cards            167374.8\n",
       "                   Cash On Delivery (COD)  153192.8"
      ]
     },
     "execution_count": 25,
     "metadata": {},
     "output_type": "execute_result"
    }
   ],
   "source": [
    "rev_pivot = pd.pivot_table(df_paymnt, index=['group', 'page', 'payment_opt'], columns=None, values='revenue', aggfunc=np.sum)\n",
    "rev_pivot.sort_values(by = 'revenue', ascending=False)"
   ]
  },
  {
   "cell_type": "markdown",
   "id": "8133ed21",
   "metadata": {},
   "source": [
    "**Ranking payment options for the control group in term of the transactions made during the last 2 weeks**"
   ]
  },
  {
   "cell_type": "code",
   "execution_count": 26,
   "id": "1ec32e2d",
   "metadata": {},
   "outputs": [
    {
     "data": {
      "text/plain": [
       "payment_opt\n",
       "Credit Cards              676\n",
       "Cash On Delivery (COD)    646\n",
       "PayPal                    631\n",
       "Name: transacions, dtype: int64"
      ]
     },
     "execution_count": 26,
     "metadata": {},
     "output_type": "execute_result"
    }
   ],
   "source": [
    "control_trans = df_paymnt.query('group == \"control\"')\n",
    "group_trans = control_trans.groupby(control_trans['payment_opt'])\n",
    "group_trans['transacions'].sum().sort_values(ascending = False)"
   ]
  },
  {
   "cell_type": "markdown",
   "id": "ffc45c3a",
   "metadata": {},
   "source": [
    "**Ranking payment options for the treatment group in term of the transactions made during the last 2 weeks**"
   ]
  },
  {
   "cell_type": "code",
   "execution_count": 27,
   "id": "1e1aa739",
   "metadata": {},
   "outputs": [
    {
     "data": {
      "text/plain": [
       "payment_opt\n",
       "Apple Pay                 2096\n",
       "Postpaid Methods          1946\n",
       "Credit Cards               390\n",
       "PayPal                     387\n",
       "Cash On Delivery (COD)     363\n",
       "Name: transacions, dtype: int64"
      ]
     },
     "execution_count": 27,
     "metadata": {},
     "output_type": "execute_result"
    }
   ],
   "source": [
    "treatment_trans = df_paymnt.query('group == \"treatment\"')\n",
    "group_trans = treatment_trans.groupby(treatment_trans['payment_opt'])\n",
    "group_trans['transacions'].sum().sort_values(ascending = False)"
   ]
  },
  {
   "cell_type": "markdown",
   "id": "07683aa8",
   "metadata": {},
   "source": [
    "**Ranking payment options for the control group in term of the revenue generated during the last 2 weeks**"
   ]
  },
  {
   "cell_type": "code",
   "execution_count": 28,
   "id": "4e8f5526",
   "metadata": {},
   "outputs": [
    {
     "data": {
      "text/plain": [
       "payment_opt\n",
       "Cash On Delivery (COD)    264122.3\n",
       "Credit Cards              262167.1\n",
       "PayPal                    242002.8\n",
       "Name: revenue, dtype: float64"
      ]
     },
     "execution_count": 28,
     "metadata": {},
     "output_type": "execute_result"
    }
   ],
   "source": [
    "control_rev = df_paymnt.query('group == \"control\"')\n",
    "group_rev = control_rev.groupby(control_rev['payment_opt'])\n",
    "group_rev['revenue'].sum().sort_values(ascending = False)"
   ]
  },
  {
   "cell_type": "markdown",
   "id": "2d656f0e",
   "metadata": {},
   "source": [
    "**Ranking payment options for the treatment group in term of the revenue generated during the last 2 weeks**"
   ]
  },
  {
   "cell_type": "code",
   "execution_count": 29,
   "id": "eabb4825",
   "metadata": {},
   "outputs": [
    {
     "data": {
      "text/plain": [
       "payment_opt\n",
       "Apple Pay                 914877.0\n",
       "Postpaid Methods          825948.0\n",
       "PayPal                    169179.0\n",
       "Credit Cards              167374.8\n",
       "Cash On Delivery (COD)    153192.8\n",
       "Name: revenue, dtype: float64"
      ]
     },
     "execution_count": 29,
     "metadata": {},
     "output_type": "execute_result"
    }
   ],
   "source": [
    "treatment_rev = df_paymnt.query('group == \"treatment\"')\n",
    "group_rev = treatment_rev.groupby(treatment_rev['payment_opt'])\n",
    "group_rev['revenue'].sum().sort_values(ascending = False)"
   ]
  },
  {
   "cell_type": "markdown",
   "id": "026d8111",
   "metadata": {},
   "source": [
    "**The Average Order Value (AOV) of the old page**"
   ]
  },
  {
   "cell_type": "code",
   "execution_count": 30,
   "id": "362ad243",
   "metadata": {},
   "outputs": [
    {
     "name": "stdout",
     "output_type": "stream",
     "text": [
      "The Average Order Value (AOV) of the old page is: 393.4\n"
     ]
    }
   ],
   "source": [
    "trans_old = df_paymnt.query('page == \"old page\"').transacions.sum()\n",
    "rev_old = df_paymnt.query('page == \"old page\"').revenue.sum()\n",
    "\n",
    "aov_old = rev_old/trans_old\n",
    "\n",
    "print('The Average Order Value (AOV) of the old page is: {}'.format(round(aov_old, 1)))"
   ]
  },
  {
   "cell_type": "markdown",
   "id": "9f9eac7c",
   "metadata": {},
   "source": [
    "**The Average Order Value (AOV) of the new page**"
   ]
  },
  {
   "cell_type": "code",
   "execution_count": 31,
   "id": "b95a4d96",
   "metadata": {},
   "outputs": [
    {
     "name": "stdout",
     "output_type": "stream",
     "text": [
      "The Average Order Value (AOV) of the new page is: 430.4\n"
     ]
    }
   ],
   "source": [
    "trans_new = df_paymnt.query('page == \"new page\"').transacions.sum()\n",
    "rev_new = df_paymnt.query('page == \"new page\"').revenue.sum()\n",
    "\n",
    "aov_new = rev_new/trans_new\n",
    "\n",
    "print('The Average Order Value (AOV) of the new page is: {}'.format(round(aov_new, 1)))"
   ]
  },
  {
   "cell_type": "markdown",
   "id": "9c84e46d",
   "metadata": {},
   "source": [
    "**The difference between the AOVs of the old & new pages**"
   ]
  },
  {
   "cell_type": "code",
   "execution_count": 32,
   "id": "60149010",
   "metadata": {},
   "outputs": [
    {
     "name": "stdout",
     "output_type": "stream",
     "text": [
      "The difference between the average order value of the old & new pages is: 37$\n"
     ]
    }
   ],
   "source": [
    "diff_aov = aov_new - aov_old\n",
    "print('The difference between the average order value of the old & new pages is: {}$'.format(round(diff_aov)))"
   ]
  },
  {
   "cell_type": "markdown",
   "id": "626a29e0",
   "metadata": {},
   "source": [
    "At the level of significance (0.05), Do we have significant evidence to say there's a difference in the averge order value of the two page ?\n",
    "\n",
    "**Null Hypothesis** : AOV *new* - AOV *old* =< 0\n",
    "\n",
    "**Alternative Hypothesis** : AOV *new* - AOV *old* > 0"
   ]
  },
  {
   "cell_type": "code",
   "execution_count": 33,
   "id": "05420d56",
   "metadata": {},
   "outputs": [
    {
     "data": {
      "text/plain": [
       "10000"
      ]
     },
     "execution_count": 33,
     "metadata": {},
     "output_type": "execute_result"
    }
   ],
   "source": [
    "diffs_aov = []\n",
    "\n",
    "for diff in range(10000):\n",
    "    b_samp = df_paymnt.sample(df_paymnt.shape[0], replace=True)\n",
    "    trans_old = b_samp.query('page == \"old page\"').transacions.sum()\n",
    "    rev_old = b_samp.query('page == \"old page\"').revenue.sum()\n",
    "    trans_new = b_samp.query('page == \"new page\"').transacions.sum()\n",
    "    rev_new = b_samp.query('page == \"new page\"').revenue.sum()\n",
    "    \n",
    "    aov_old = rev_old/trans_old\n",
    "    aov_new = rev_new/trans_new\n",
    "    \n",
    "    diffs_aov.append(aov_new - aov_old)\n",
    "len(diffs_aov)"
   ]
  },
  {
   "cell_type": "code",
   "execution_count": 34,
   "id": "6b1ceb9f",
   "metadata": {},
   "outputs": [
    {
     "data": {
      "image/png": "[encoded data removed]",
      "text/plain": [
       "<Figure size 432x432 with 1 Axes>"
      ]
     },
     "metadata": {},
     "output_type": "display_data"
    }
   ],
   "source": [
    "plt.figure(figsize=(6,6))\n",
    "plt.hist(diffs_aov, alpha = 0.5);"
   ]
  },
  {
   "cell_type": "code",
   "execution_count": 35,
   "id": "107f2984",
   "metadata": {},
   "outputs": [],
   "source": [
    "diff_aov_arr = np.array(diffs_aov)\n",
    "null_aov_vals = np.random.normal(0, diff_aov_arr.std(), diff_aov_arr.size)"
   ]
  },
  {
   "cell_type": "code",
   "execution_count": 36,
   "id": "0421154f",
   "metadata": {},
   "outputs": [
    {
     "data": {
      "text/plain": [
       "<matplotlib.lines.Line2D at 0x1656cc79100>"
      ]
     },
     "execution_count": 36,
     "metadata": {},
     "output_type": "execute_result"
    },
    {
     "data": {
      "image/png": "[encoded data removed]",
      "text/plain": [
       "<Figure size 432x432 with 1 Axes>"
      ]
     },
     "metadata": {},
     "output_type": "display_data"
    }
   ],
   "source": [
    "plt.figure(figsize=(6,6))\n",
    "plt.hist(null_aov_vals, alpha = 0.5)\n",
    "plt.axvline(x=diff_aov, color='#191970')"
   ]
  },
  {
   "cell_type": "code",
   "execution_count": 37,
   "id": "11068b9f",
   "metadata": {},
   "outputs": [
    {
     "data": {
      "text/plain": [
       "0.0"
      ]
     },
     "execution_count": 37,
     "metadata": {},
     "output_type": "execute_result"
    }
   ],
   "source": [
    "p_val = (null_aov_vals > diff_aov).mean()\n",
    "p_val"
   ]
  },
  {
   "cell_type": "markdown",
   "id": "90ba14da",
   "metadata": {},
   "source": [
    "### **Conclusion**\n",
    "\n",
    "- We notice that the observed value is a little bit close to the null hypothesis values..\n",
    "\n",
    "- A p-value result **0.0** we should reject our null hypothesis in favor of an alternative hypothesis..\n",
    "\n",
    "- With **95% confidence**, there's statistical evidence to say that there's a difference between the AOVs of the new and old pages..\n",
    "\n",
    "**Is this difference practically significant?**\n",
    "\n",
    "- In a business context, with the observed difference of **37 US Dollars** is not necessarily a significant increment but there's an improvement by introducing the new payment options.."
   ]
  },
  {
   "cell_type": "markdown",
   "id": "21892652",
   "metadata": {},
   "source": [
    "### #Product Description Pages (PDPs) - Engagement time"
   ]
  },
  {
   "cell_type": "markdown",
   "id": "ffc963cd",
   "metadata": {},
   "source": [
    "- The company also applied some adjustments to the product pages, changing some CTAs: like changing the names of buttons, and the direction of the overview, ..., etc.Now they are interested to see if there's any difference in the visitors behavior, in terms of engagement time with their products, CTR."
   ]
  },
  {
   "cell_type": "code",
   "execution_count": 38,
   "id": "ed836b1b",
   "metadata": {},
   "outputs": [
    {
     "data": {
      "text/html": [
       "<div>\n",
       "<style scoped>\n",
       "    .dataframe tbody tr th:only-of-type {\n",
       "        vertical-align: middle;\n",
       "    }\n",
       "\n",
       "    .dataframe tbody tr th {\n",
       "        vertical-align: top;\n",
       "    }\n",
       "\n",
       "    .dataframe thead th {\n",
       "        text-align: right;\n",
       "    }\n",
       "</style>\n",
       "<table border=\"1\" class=\"dataframe\">\n",
       "  <thead>\n",
       "    <tr style=\"text-align: right;\">\n",
       "      <th></th>\n",
       "      <th>id</th>\n",
       "      <th>group</th>\n",
       "      <th>pdp_page</th>\n",
       "      <th>engagement_time</th>\n",
       "    </tr>\n",
       "  </thead>\n",
       "  <tbody>\n",
       "    <tr>\n",
       "      <th>0</th>\n",
       "      <td>23899</td>\n",
       "      <td>control</td>\n",
       "      <td>old page</td>\n",
       "      <td>3.9</td>\n",
       "    </tr>\n",
       "    <tr>\n",
       "      <th>1</th>\n",
       "      <td>12757</td>\n",
       "      <td>control</td>\n",
       "      <td>old page</td>\n",
       "      <td>3.0</td>\n",
       "    </tr>\n",
       "    <tr>\n",
       "      <th>2</th>\n",
       "      <td>27727</td>\n",
       "      <td>treatment</td>\n",
       "      <td>new page</td>\n",
       "      <td>3.8</td>\n",
       "    </tr>\n",
       "    <tr>\n",
       "      <th>3</th>\n",
       "      <td>16679</td>\n",
       "      <td>control</td>\n",
       "      <td>old page</td>\n",
       "      <td>1.7</td>\n",
       "    </tr>\n",
       "    <tr>\n",
       "      <th>4</th>\n",
       "      <td>29703</td>\n",
       "      <td>treatment</td>\n",
       "      <td>new page</td>\n",
       "      <td>3.7</td>\n",
       "    </tr>\n",
       "    <tr>\n",
       "      <th>5</th>\n",
       "      <td>19198</td>\n",
       "      <td>control</td>\n",
       "      <td>old page</td>\n",
       "      <td>2.5</td>\n",
       "    </tr>\n",
       "  </tbody>\n",
       "</table>\n",
       "</div>"
      ],
      "text/plain": [
       "      id      group  pdp_page  engagement_time\n",
       "0  23899    control  old page              3.9\n",
       "1  12757    control  old page              3.0\n",
       "2  27727  treatment  new page              3.8\n",
       "3  16679    control  old page              1.7\n",
       "4  29703  treatment  new page              3.7\n",
       "5  19198    control  old page              2.5"
      ]
     },
     "execution_count": 38,
     "metadata": {},
     "output_type": "execute_result"
    }
   ],
   "source": [
    "df_engmnt = pd.read_csv('pdp_engagement_time.csv')\n",
    "df_engmnt.head(6)"
   ]
  },
  {
   "cell_type": "markdown",
   "id": "536afda8",
   "metadata": {},
   "source": [
    "**The AVG engagement time of the old page**"
   ]
  },
  {
   "cell_type": "code",
   "execution_count": 39,
   "id": "79ca5d80",
   "metadata": {},
   "outputs": [
    {
     "name": "stdout",
     "output_type": "stream",
     "text": [
      "The AVG of the engagement time of the old page is : 2.5 minutes\n"
     ]
    }
   ],
   "source": [
    "avg_eng_old = df_engmnt.query('pdp_page == \"old page\"').engagement_time.mean()\n",
    "print('The AVG of the engagement time of the old page is : {} minutes'.format(round(avg_eng_old, 1)))"
   ]
  },
  {
   "cell_type": "markdown",
   "id": "b391a3c1",
   "metadata": {},
   "source": [
    "**The AVG engagement time of the new page**"
   ]
  },
  {
   "cell_type": "code",
   "execution_count": 40,
   "id": "cb824afb",
   "metadata": {},
   "outputs": [
    {
     "name": "stdout",
     "output_type": "stream",
     "text": [
      "The AVG of the engagement time of the new page is : 4.0 minutes\n"
     ]
    }
   ],
   "source": [
    "avg_eng_new = df_engmnt.query('pdp_page == \"new page\"').engagement_time.mean()\n",
    "print('The AVG of the engagement time of the new page is : {} minutes'.format(round(avg_eng_new, 1)))"
   ]
  },
  {
   "cell_type": "markdown",
   "id": "5fec630a",
   "metadata": {},
   "source": [
    "**The difference between the AVGs of the old & new pages**"
   ]
  },
  {
   "cell_type": "code",
   "execution_count": 41,
   "id": "959e4bca",
   "metadata": {},
   "outputs": [
    {
     "name": "stdout",
     "output_type": "stream",
     "text": [
      "The difference between the AVGs of the old & new pages is: 1.5 minutes\n"
     ]
    }
   ],
   "source": [
    "diff_eng = avg_eng_new - avg_eng_old\n",
    "print('The difference between the AVGs of the old & new pages is: {} minutes'.format(round(diff_eng, 1)))"
   ]
  },
  {
   "cell_type": "markdown",
   "id": "a41ac46f",
   "metadata": {},
   "source": [
    "At the level of significance (0.05), Do we have significant evidence to say there's a difference in the averge engagement time of the two page ?\n",
    "\n",
    "**Null Hypothesis** : AVG Engagement Time *(new)* - AVG Engagement Time *(old)* =< 0\n",
    "\n",
    "**Alternative Hypothesis** : AVG Engagement Time *(new)* - AVG Engagement Time *(old)* > 0"
   ]
  },
  {
   "cell_type": "code",
   "execution_count": 42,
   "id": "f8af2fcb",
   "metadata": {},
   "outputs": [
    {
     "data": {
      "text/plain": [
       "10000"
      ]
     },
     "execution_count": 42,
     "metadata": {},
     "output_type": "execute_result"
    }
   ],
   "source": [
    "diffs_eng = []\n",
    "\n",
    "for diff in range(10000):\n",
    "    b_samp = df_engmnt.sample(df_engmnt.shape[0], replace=True)\n",
    "    avg_eng_old = b_samp.query('pdp_page == \"old page\"').engagement_time.mean()\n",
    "    avg_eng_new = b_samp.query('pdp_page == \"new page\"').engagement_time.mean()\n",
    "    diff_eng = avg_eng_new - avg_eng_old\n",
    "    diffs_eng.append(diff_eng)\n",
    "len(diffs_eng)"
   ]
  },
  {
   "cell_type": "code",
   "execution_count": 43,
   "id": "9142cf94",
   "metadata": {},
   "outputs": [
    {
     "data": {
      "image/png": "[encoded data removed]",
      "text/plain": [
       "<Figure size 432x432 with 1 Axes>"
      ]
     },
     "metadata": {},
     "output_type": "display_data"
    }
   ],
   "source": [
    "plt.figure(figsize=(6,6))\n",
    "plt.hist(diffs_eng, alpha = 0.5);"
   ]
  },
  {
   "cell_type": "code",
   "execution_count": 44,
   "id": "620674c7",
   "metadata": {},
   "outputs": [],
   "source": [
    "diff_eng_arr = np.array(diffs_aov)\n",
    "null_eng_vals = np.random.normal(0, diff_eng_arr.std(), diff_eng_arr.size)"
   ]
  },
  {
   "cell_type": "code",
   "execution_count": 45,
   "id": "49e52d74",
   "metadata": {},
   "outputs": [
    {
     "data": {
      "text/plain": [
       "<matplotlib.lines.Line2D at 0x1656ba747f0>"
      ]
     },
     "execution_count": 45,
     "metadata": {},
     "output_type": "execute_result"
    },
    {
     "data": {
      "image/png": "[encoded data removed]",
      "text/plain": [
       "<Figure size 432x432 with 1 Axes>"
      ]
     },
     "metadata": {},
     "output_type": "display_data"
    }
   ],
   "source": [
    "plt.figure(figsize=(6,6))\n",
    "plt.hist(null_eng_vals, alpha = 0.5)\n",
    "plt.axvline(x=diff_eng, color='#191970')"
   ]
  },
  {
   "cell_type": "code",
   "execution_count": 46,
   "id": "6a4d01a6",
   "metadata": {},
   "outputs": [
    {
     "data": {
      "text/plain": [
       "0.4312"
      ]
     },
     "execution_count": 46,
     "metadata": {},
     "output_type": "execute_result"
    }
   ],
   "source": [
    "p_val = (null_eng_vals > diff_eng).mean()\n",
    "p_val"
   ]
  },
  {
   "cell_type": "markdown",
   "id": "2ad3a60c",
   "metadata": {},
   "source": [
    "### **Conclusion**\n",
    "\n",
    "-  Since the p-value of **0.4** is more than the significant level (0.05), we failed to reject the null hypothesis, therefore there's no statistical evidence to prove the alternative hypothesis is true..\n",
    "\n",
    "\n",
    "**Is this difference practically significant?**\n",
    "\n",
    "- The difference of **1.5 minutes** is not a significant difference to say the new design is better than the old design, however the new design has made visitors spend more time by 1.5 minutes on average. And maybe the visitors didn't take their time to properly adapt to the new adjustments, thus we can run the experiment for more time to observe if there's any changes in the visitors behavior, then draw the conclusions again.."
   ]
  },
  {
   "cell_type": "markdown",
   "id": "045cf56f",
   "metadata": {},
   "source": [
    "### #Product Description Pages (PDPs) - CTR"
   ]
  },
  {
   "cell_type": "markdown",
   "id": "73b3e219",
   "metadata": {},
   "source": [
    "- The company did a lot of changes to the product pages but they were most concerned  about whether the adjustment they made to the buy button in the product pages has actually improved the click-through-rate.."
   ]
  },
  {
   "cell_type": "code",
   "execution_count": 47,
   "id": "a6bb0755",
   "metadata": {},
   "outputs": [
    {
     "data": {
      "text/html": [
       "<div>\n",
       "<style scoped>\n",
       "    .dataframe tbody tr th:only-of-type {\n",
       "        vertical-align: middle;\n",
       "    }\n",
       "\n",
       "    .dataframe tbody tr th {\n",
       "        vertical-align: top;\n",
       "    }\n",
       "\n",
       "    .dataframe thead th {\n",
       "        text-align: right;\n",
       "    }\n",
       "</style>\n",
       "<table border=\"1\" class=\"dataframe\">\n",
       "  <thead>\n",
       "    <tr style=\"text-align: right;\">\n",
       "      <th></th>\n",
       "      <th>id</th>\n",
       "      <th>group</th>\n",
       "      <th>pdp_page</th>\n",
       "      <th>cta</th>\n",
       "      <th>actions</th>\n",
       "    </tr>\n",
       "  </thead>\n",
       "  <tbody>\n",
       "    <tr>\n",
       "      <th>2337</th>\n",
       "      <td>36061</td>\n",
       "      <td>control</td>\n",
       "      <td>old page</td>\n",
       "      <td>buy btn</td>\n",
       "      <td>view</td>\n",
       "    </tr>\n",
       "    <tr>\n",
       "      <th>4366</th>\n",
       "      <td>609295</td>\n",
       "      <td>treatment</td>\n",
       "      <td>new page</td>\n",
       "      <td>order btn</td>\n",
       "      <td>view</td>\n",
       "    </tr>\n",
       "    <tr>\n",
       "      <th>3785</th>\n",
       "      <td>628052</td>\n",
       "      <td>treatment</td>\n",
       "      <td>new page</td>\n",
       "      <td>order btn</td>\n",
       "      <td>view</td>\n",
       "    </tr>\n",
       "    <tr>\n",
       "      <th>4126</th>\n",
       "      <td>664414</td>\n",
       "      <td>treatment</td>\n",
       "      <td>new page</td>\n",
       "      <td>order btn</td>\n",
       "      <td>click</td>\n",
       "    </tr>\n",
       "    <tr>\n",
       "      <th>4030</th>\n",
       "      <td>41994</td>\n",
       "      <td>control</td>\n",
       "      <td>old page</td>\n",
       "      <td>buy btn</td>\n",
       "      <td>view</td>\n",
       "    </tr>\n",
       "    <tr>\n",
       "      <th>4010</th>\n",
       "      <td>484279</td>\n",
       "      <td>treatment</td>\n",
       "      <td>new page</td>\n",
       "      <td>order btn</td>\n",
       "      <td>click</td>\n",
       "    </tr>\n",
       "  </tbody>\n",
       "</table>\n",
       "</div>"
      ],
      "text/plain": [
       "          id      group  pdp_page        cta actions\n",
       "2337   36061    control  old page    buy btn    view\n",
       "4366  609295  treatment  new page  order btn    view\n",
       "3785  628052  treatment  new page  order btn    view\n",
       "4126  664414  treatment  new page  order btn   click\n",
       "4030   41994    control  old page    buy btn    view\n",
       "4010  484279  treatment  new page  order btn   click"
      ]
     },
     "execution_count": 47,
     "metadata": {},
     "output_type": "execute_result"
    }
   ],
   "source": [
    "pdp_acts = pd.read_csv('pdp_actions.csv')\n",
    "pdp_acts.sample(6)"
   ]
  },
  {
   "cell_type": "markdown",
   "id": "cf085473",
   "metadata": {},
   "source": [
    "**Click-Through-Rate (CTR) of the CTA (buy btn)**"
   ]
  },
  {
   "cell_type": "code",
   "execution_count": 48,
   "id": "3d555663",
   "metadata": {},
   "outputs": [
    {
     "name": "stdout",
     "output_type": "stream",
     "text": [
      "The CTR of the CTA (buy btn) is: 34.0 %\n"
     ]
    }
   ],
   "source": [
    "click_buy = pdp_acts.query('cta == \"buy btn\" & actions == \"click\"').id.nunique()\n",
    "view_buy = pdp_acts.query('cta == \"buy btn\" & actions == \"view\"').id.nunique()\n",
    "conv_rate_pdp_buy = CTR_func(click_buy, view_buy)\n",
    "print('The CTR of the CTA (buy btn) is: {} %'.format(round(conv_rate_pdp_buy, 1)))"
   ]
  },
  {
   "cell_type": "markdown",
   "id": "05f546fa",
   "metadata": {},
   "source": [
    "**Click-Through-Rate (CTR) of the CTA (order btn)**"
   ]
  },
  {
   "cell_type": "code",
   "execution_count": 49,
   "id": "b6f0bd6d",
   "metadata": {},
   "outputs": [
    {
     "name": "stdout",
     "output_type": "stream",
     "text": [
      "The CTR of the CTA (order btn) is: 40.0 %\n"
     ]
    }
   ],
   "source": [
    "click_ord = pdp_acts.query('cta == \"order btn\" & actions == \"click\"').id.nunique()\n",
    "view_ord = pdp_acts.query('cta == \"order btn\" & actions == \"view\"').id.nunique()\n",
    "conv_rate_pdp_ord = CTR_func(click_ord, view_ord)\n",
    "print('The CTR of the CTA (order btn) is: {} %'.format(round(conv_rate_pdp_ord, 1)))"
   ]
  },
  {
   "cell_type": "markdown",
   "id": "0bdf3375",
   "metadata": {},
   "source": [
    "**The difference between the buy btn & order btn**"
   ]
  },
  {
   "cell_type": "code",
   "execution_count": 50,
   "id": "0056ef06",
   "metadata": {},
   "outputs": [
    {
     "name": "stdout",
     "output_type": "stream",
     "text": [
      "The difference between the buy btn and the order btn is: 6.0 %\n"
     ]
    }
   ],
   "source": [
    "diff_cta = conv_rate_pdp_ord - conv_rate_pdp_buy\n",
    "print('The difference between the buy btn and the order btn is: {} %'.format(round(diff_cta, 1)))"
   ]
  },
  {
   "cell_type": "markdown",
   "id": "aae377f9",
   "metadata": {},
   "source": [
    "At the level of significance (0.05), Do we have significant evidence to say there's a difference in the CTRs of the buy btn and order btn?\n",
    "\n",
    "**Null Hypothesis** : CTR *(order btn)* - CTR *(buy btn)* =< 0\n",
    "\n",
    "**Alternative Hypothesis** : CTR *(order btn)* - CTR *(buy btn)* > 0"
   ]
  },
  {
   "cell_type": "code",
   "execution_count": 51,
   "id": "d7287eef",
   "metadata": {},
   "outputs": [
    {
     "data": {
      "text/plain": [
       "10000"
      ]
     },
     "execution_count": 51,
     "metadata": {},
     "output_type": "execute_result"
    }
   ],
   "source": [
    "diffs_cta = []\n",
    "\n",
    "for diff in range(10000):\n",
    "    b_samp = pdp_acts.sample(pdp_acts.shape[0], replace=True)\n",
    "    click_buy = b_samp.query('cta == \"buy btn\" & actions == \"click\"').id.nunique()\n",
    "    view_buy = b_samp.query('cta == \"buy btn\" & actions == \"view\"').id.nunique()\n",
    "    click_ord = b_samp.query('cta == \"order btn\" & actions == \"click\"').id.nunique()\n",
    "    view_ord = b_samp.query('cta == \"order btn\" & actions == \"view\"').id.nunique()\n",
    "    \n",
    "    conv_rate_pdp_buy = CTR_func(click_buy, view_buy)\n",
    "    conv_rate_pdp_ord = CTR_func(click_ord, view_ord)\n",
    "    \n",
    "    diffs_cta.append(conv_rate_pdp_ord - conv_rate_pdp_buy)\n",
    "len(diffs_cta)"
   ]
  },
  {
   "cell_type": "code",
   "execution_count": 52,
   "id": "26ae4846",
   "metadata": {},
   "outputs": [
    {
     "data": {
      "image/png": "[encoded data removed]",
      "text/plain": [
       "<Figure size 432x432 with 1 Axes>"
      ]
     },
     "metadata": {},
     "output_type": "display_data"
    }
   ],
   "source": [
    "plt.figure(figsize=(6,6))\n",
    "plt.hist(diffs_cta, alpha = 0.5);"
   ]
  },
  {
   "cell_type": "code",
   "execution_count": 53,
   "id": "bb3a9cb6",
   "metadata": {},
   "outputs": [],
   "source": [
    "diff_cta_arr = np.array(diffs_cta)\n",
    "null_cta_vals = np.random.normal(0, diff_cta_arr.std(), diff_cta_arr.size)"
   ]
  },
  {
   "cell_type": "code",
   "execution_count": 54,
   "id": "c995a71b",
   "metadata": {},
   "outputs": [
    {
     "data": {
      "text/plain": [
       "<matplotlib.lines.Line2D at 0x1656cc28250>"
      ]
     },
     "execution_count": 54,
     "metadata": {},
     "output_type": "execute_result"
    },
    {
     "data": {
      "image/png": "[encoded data removed]",
      "text/plain": [
       "<Figure size 432x432 with 1 Axes>"
      ]
     },
     "metadata": {},
     "output_type": "display_data"
    }
   ],
   "source": [
    "plt.figure(figsize=(6,6))\n",
    "plt.hist(null_cta_vals, alpha = 0.5)\n",
    "plt.axvline(x=diff_cta, color='#191970')"
   ]
  },
  {
   "cell_type": "code",
   "execution_count": 55,
   "id": "43597071",
   "metadata": {},
   "outputs": [
    {
     "data": {
      "text/plain": [
       "0.0005"
      ]
     },
     "execution_count": 55,
     "metadata": {},
     "output_type": "execute_result"
    }
   ],
   "source": [
    "p_val = (null_cta_vals > diff_cta).mean()\n",
    "p_val"
   ]
  },
  {
   "cell_type": "markdown",
   "id": "ce49b724",
   "metadata": {},
   "source": [
    "### **Conclusion**\n",
    "\n",
    "-  Since the p-value of **0.0005** is less than the level of significance (0.05), we reject the null hypothesis, therefore we have enough statistical evidence to prove that our alternative hypothesis is true..\n",
    "\n",
    "\n",
    "**Is this difference practically significant?**\n",
    "\n",
    "- The difference of **7%** is not practically a significant difference to say the new design has better click through rate than the old design, however the new design increases the CTR. As well as the engagement time, maybe the visitors didn't take their time to properly adapt to the new adjustments, thus we can run the experiment for more time to observe if there's any changes in the visitors behavior, then draw the conclusions again.."
   ]
  },
  {
   "cell_type": "markdown",
   "id": "817339b9",
   "metadata": {},
   "source": [
    "### #Signup Conversions - Conversion Rate"
   ]
  },
  {
   "cell_type": "markdown",
   "id": "9c4b11d2",
   "metadata": {},
   "source": [
    "- Also, the company did some adjustments to the sign up banner like changing the color to brighter color , the placements , the text and so on.They ran an experiment for 2 weeks to observe the visitors behavior regarding these adjustments.."
   ]
  },
  {
   "cell_type": "code",
   "execution_count": 56,
   "id": "3ba7d534",
   "metadata": {},
   "outputs": [
    {
     "data": {
      "text/html": [
       "<div>\n",
       "<style scoped>\n",
       "    .dataframe tbody tr th:only-of-type {\n",
       "        vertical-align: middle;\n",
       "    }\n",
       "\n",
       "    .dataframe tbody tr th {\n",
       "        vertical-align: top;\n",
       "    }\n",
       "\n",
       "    .dataframe thead th {\n",
       "        text-align: right;\n",
       "    }\n",
       "</style>\n",
       "<table border=\"1\" class=\"dataframe\">\n",
       "  <thead>\n",
       "    <tr style=\"text-align: right;\">\n",
       "      <th></th>\n",
       "      <th>id</th>\n",
       "      <th>group</th>\n",
       "      <th>page</th>\n",
       "      <th>converted</th>\n",
       "    </tr>\n",
       "  </thead>\n",
       "  <tbody>\n",
       "    <tr>\n",
       "      <th>0</th>\n",
       "      <td>12543</td>\n",
       "      <td>control</td>\n",
       "      <td>old page</td>\n",
       "      <td>yes</td>\n",
       "    </tr>\n",
       "    <tr>\n",
       "      <th>1</th>\n",
       "      <td>12084</td>\n",
       "      <td>control</td>\n",
       "      <td>old page</td>\n",
       "      <td>no</td>\n",
       "    </tr>\n",
       "  </tbody>\n",
       "</table>\n",
       "</div>"
      ],
      "text/plain": [
       "      id    group      page converted\n",
       "0  12543  control  old page       yes\n",
       "1  12084  control  old page        no"
      ]
     },
     "execution_count": 56,
     "metadata": {},
     "output_type": "execute_result"
    }
   ],
   "source": [
    "df_sign = pd.read_csv('signup_conversions.csv')\n",
    "df_sign.head(2)"
   ]
  },
  {
   "cell_type": "markdown",
   "id": "25e2ec47",
   "metadata": {},
   "source": [
    "**Conversion rate of the old page**"
   ]
  },
  {
   "cell_type": "code",
   "execution_count": 57,
   "id": "042f62f5",
   "metadata": {},
   "outputs": [
    {
     "name": "stdout",
     "output_type": "stream",
     "text": [
      "The conversion rate of signups the old page is: 15.0 %\n"
     ]
    }
   ],
   "source": [
    "old_conv = df_sign.query('page == \"old page\" & converted == \"yes\"').id.count()\n",
    "old_count = df_sign.query('page == \"old page\"').id.count()\n",
    "\n",
    "old_conv_rate = round(old_conv / old_count, 2)*100\n",
    "\n",
    "print('The conversion rate of signups the old page is: {} %'.format(old_conv_rate))"
   ]
  },
  {
   "cell_type": "markdown",
   "id": "1579ace9",
   "metadata": {},
   "source": [
    "**Conversion rate of the new page**"
   ]
  },
  {
   "cell_type": "code",
   "execution_count": 58,
   "id": "f3001e27",
   "metadata": {},
   "outputs": [
    {
     "name": "stdout",
     "output_type": "stream",
     "text": [
      "The conversion rate of signups the new page is: 20.0 %\n"
     ]
    }
   ],
   "source": [
    "new_conv = df_sign.query('page == \"new page\" & converted == \"yes\"').id.count()\n",
    "new_count = df_sign.query('page == \"new page\"').id.count()\n",
    "\n",
    "new_conv_rate = round(new_conv/ new_count, 2)*100\n",
    "\n",
    "print('The conversion rate of signups the new page is: {} %'.format(new_conv_rate))"
   ]
  },
  {
   "cell_type": "markdown",
   "id": "9e6ccea4",
   "metadata": {},
   "source": [
    "**The difference between the conversion rates of the signup of the old and new pages**"
   ]
  },
  {
   "cell_type": "code",
   "execution_count": 59,
   "id": "1498b50b",
   "metadata": {},
   "outputs": [
    {
     "name": "stdout",
     "output_type": "stream",
     "text": [
      "The difference between the conversion rates of the sign up of the old and the new pages is: 5.0%\n"
     ]
    }
   ],
   "source": [
    "diff_sign = new_conv_rate - old_conv_rate\n",
    "print('The difference between the conversion rates of the sign up of the old and the new pages is: {}%'.format(diff_sign))"
   ]
  },
  {
   "cell_type": "markdown",
   "id": "24e72226",
   "metadata": {},
   "source": [
    "At the level of significance (0.05), Do we have significant evidence to say there's a difference in the conversion rates of the old and the new page?\n",
    "\n",
    "**Null Hypothesis** : Conversion Rate *(new)* - Conversion Rate *(old)* =< 0\n",
    "\n",
    "**Alternative Hypothesis** : Conversion Rate *(new)* - Conversion Rate *(old)* > 0"
   ]
  },
  {
   "cell_type": "code",
   "execution_count": 60,
   "id": "0e29af72",
   "metadata": {},
   "outputs": [
    {
     "data": {
      "text/plain": [
       "10000"
      ]
     },
     "execution_count": 60,
     "metadata": {},
     "output_type": "execute_result"
    }
   ],
   "source": [
    "diffs_sign = []\n",
    "\n",
    "for diff in range(10000):\n",
    "    b_samp = df_sign.sample(df_sign.shape[0], replace=True)\n",
    "    old_conv = b_samp.query('page == \"old page\" & converted == \"yes\"').id.count()\n",
    "    old_count = b_samp.query('page == \"old page\"').id.count()\n",
    "    new_conv = b_samp.query('page == \"new page\" & converted == \"yes\"').id.count()\n",
    "    new_count = b_samp.query('page == \"new page\"').id.count()\n",
    "\n",
    "    new_conv_rate = round(new_conv/ new_count, 2)*100\n",
    "    old_conv_rate = round(old_conv / old_count, 2)*100\n",
    "    \n",
    "    diffs_sign.append(new_conv_rate - old_conv_rate)\n",
    "len(diffs_sign)"
   ]
  },
  {
   "cell_type": "code",
   "execution_count": 61,
   "id": "27521ef2",
   "metadata": {},
   "outputs": [
    {
     "data": {
      "image/png": "[encoded data removed]",
      "text/plain": [
       "<Figure size 432x432 with 1 Axes>"
      ]
     },
     "metadata": {},
     "output_type": "display_data"
    }
   ],
   "source": [
    "plt.figure(figsize=(6,6))\n",
    "plt.hist(diffs_sign, alpha = 0.5);"
   ]
  },
  {
   "cell_type": "code",
   "execution_count": 62,
   "id": "a10ab5aa",
   "metadata": {},
   "outputs": [],
   "source": [
    "diff_sign_arr = np.array(diffs_sign)\n",
    "null_sign_vals = np.random.normal(0, diff_sign_arr.std(), diff_sign_arr.size)"
   ]
  },
  {
   "cell_type": "code",
   "execution_count": 63,
   "id": "2773ee71",
   "metadata": {},
   "outputs": [
    {
     "data": {
      "text/plain": [
       "<matplotlib.lines.Line2D at 0x1656babeca0>"
      ]
     },
     "execution_count": 63,
     "metadata": {},
     "output_type": "execute_result"
    },
    {
     "data": {
      "image/png": "[encoded data removed]",
      "text/plain": [
       "<Figure size 432x432 with 1 Axes>"
      ]
     },
     "metadata": {},
     "output_type": "display_data"
    }
   ],
   "source": [
    "plt.figure(figsize=(6,6))\n",
    "plt.hist(null_sign_vals, alpha = 0.5)\n",
    "plt.axvline(x=diff_sign, color='#191970')"
   ]
  },
  {
   "cell_type": "code",
   "execution_count": 64,
   "id": "1e59d224",
   "metadata": {},
   "outputs": [
    {
     "data": {
      "text/plain": [
       "0.0"
      ]
     },
     "execution_count": 64,
     "metadata": {},
     "output_type": "execute_result"
    }
   ],
   "source": [
    "p_val = (null_sign_vals > diff_sign).mean()\n",
    "p_val"
   ]
  },
  {
   "cell_type": "markdown",
   "id": "d3a83c27",
   "metadata": {},
   "source": [
    "### **Conclusion**\n",
    "\n",
    "- A p-value result **0.0** indicates that we should reject our null hypothesis in favor of an alternative hypothesis..\n",
    "\n",
    "- With **95% confidence**, there's statistical evidence to say that there's a difference between the conversion rate of the signup of the new and old pages..\n",
    "\n",
    "**Is this difference practically significant?**\n",
    "\n",
    "- In a business context, with the observed difference of **5%** is not necessarily a significant increment,  but there's an improvement in the conversion rate of the new page.."
   ]
  }
 ],
 "metadata": {
  "kernelspec": {
   "display_name": "Python 3 (ipykernel)",
   "language": "python",
   "name": "python3"
  },
  "language_info": {
   "codemirror_mode": {
    "name": "ipython",
    "version": 3
   },
   "file_extension": ".py",
   "mimetype": "text/x-python",
   "name": "python",
   "nbconvert_exporter": "python",
   "pygments_lexer": "ipython3",
   "version": "3.9.12"
  }
 },
 "nbformat": 4,
 "nbformat_minor": 5
}
